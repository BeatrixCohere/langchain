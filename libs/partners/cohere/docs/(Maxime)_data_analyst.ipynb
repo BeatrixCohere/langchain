{
 "cells": [
  {
   "cell_type": "raw",
   "metadata": {
    "id": "EUYMLmXAF3W1"
   },
   "source": [
    "---\n",
    "sidebar_position: 0\n",
    "---"
   ]
  },
  {
   "cell_type": "markdown",
   "metadata": {
    "id": "YxYFKeHcF3W2"
   },
   "source": [
    "# Cohere Tools\n",
    "\n",
    "The following notebook goes over how to use the Cohere tools agent:"
   ]
  },
  {
   "cell_type": "markdown",
   "metadata": {
    "id": "mBOjO9wjF3W3"
   },
   "source": [
    "Prerequisites for this notebook:"
   ]
  },
  {
   "cell_type": "markdown",
   "metadata": {
    "id": "W8yvOB2MQp07"
   },
   "source": [
    "# Environment"
   ]
  },
  {
   "cell_type": "code",
   "execution_count": null,
   "metadata": {
    "colab": {
     "base_uri": "https://localhost:8080/"
    },
    "id": "ujQVUvA9QlD4",
    "outputId": "cd76d4cc-d04e-4620-a0d5-2e75b837bd5e"
   },
   "outputs": [
    {
     "name": "stdout",
     "output_type": "stream",
     "text": [
      "\u001b[?25l     \u001b[90m━━━━━━━━━━━━━━━━━━━━━━━━━━━━━━━━━━━━━━━━\u001b[0m \u001b[32m0.0/177.6 kB\u001b[0m \u001b[31m?\u001b[0m eta \u001b[36m-:--:--\u001b[0m\r",
      "\u001b[2K     \u001b[91m━━━━━━━━━━━━━━━━━━━━━━━━━━━━━━━━━━━━━━━\u001b[0m\u001b[90m╺\u001b[0m \u001b[32m174.1/177.6 kB\u001b[0m \u001b[31m5.2 MB/s\u001b[0m eta \u001b[36m0:00:01\u001b[0m\r",
      "\u001b[2K     \u001b[90m━━━━━━━━━━━━━━━━━━━━━━━━━━━━━━━━━━━━━━━━\u001b[0m \u001b[32m177.6/177.6 kB\u001b[0m \u001b[31m4.1 MB/s\u001b[0m eta \u001b[36m0:00:00\u001b[0m\n",
      "\u001b[?25h"
     ]
    }
   ],
   "source": [
    "! pip install --quiet langchain langchain_experimental langchain_cohere"
   ]
  },
  {
   "cell_type": "code",
   "execution_count": null,
   "metadata": {
    "colab": {
     "base_uri": "https://localhost:8080/"
    },
    "id": "zXL6LhxyQnD7",
    "outputId": "3cb9a20e-30bb-4c21-a0ec-e6dd937401b8"
   },
   "outputs": [
    {
     "name": "stdout",
     "output_type": "stream",
     "text": [
      "  Installing build dependencies ... \u001b[?25l\u001b[?25hdone\n",
      "  Getting requirements to build wheel ... \u001b[?25l\u001b[?25hdone\n",
      "  Preparing metadata (pyproject.toml) ... \u001b[?25l\u001b[?25hdone\n",
      "\u001b[2K     \u001b[90m━━━━━━━━━━━━━━━━━━━━━━━━━━━━━━━━━━━━━━━━\u001b[0m \u001b[32m394.9/394.9 kB\u001b[0m \u001b[31m7.9 MB/s\u001b[0m eta \u001b[36m0:00:00\u001b[0m\n",
      "\u001b[2K     \u001b[90m━━━━━━━━━━━━━━━━━━━━━━━━━━━━━━━━━━━━━━━━\u001b[0m \u001b[32m62.6/62.6 kB\u001b[0m \u001b[31m8.6 MB/s\u001b[0m eta \u001b[36m0:00:00\u001b[0m\n",
      "\u001b[2K     \u001b[90m━━━━━━━━━━━━━━━━━━━━━━━━━━━━━━━━━━━━━━━━\u001b[0m \u001b[32m705.5/705.5 kB\u001b[0m \u001b[31m15.0 MB/s\u001b[0m eta \u001b[36m0:00:00\u001b[0m\n",
      "\u001b[2K     \u001b[90m━━━━━━━━━━━━━━━━━━━━━━━━━━━━━━━━━━━━━━━━\u001b[0m \u001b[32m85.6/85.6 kB\u001b[0m \u001b[31m12.0 MB/s\u001b[0m eta \u001b[36m0:00:00\u001b[0m\n",
      "\u001b[2K     \u001b[90m━━━━━━━━━━━━━━━━━━━━━━━━━━━━━━━━━━━━━━━━\u001b[0m \u001b[32m163.8/163.8 kB\u001b[0m \u001b[31m11.3 MB/s\u001b[0m eta \u001b[36m0:00:00\u001b[0m\n",
      "\u001b[2K     \u001b[90m━━━━━━━━━━━━━━━━━━━━━━━━━━━━━━━━━━━━━━━━\u001b[0m \u001b[32m61.6/61.6 kB\u001b[0m \u001b[31m8.7 MB/s\u001b[0m eta \u001b[36m0:00:00\u001b[0m\n",
      "\u001b[2K     \u001b[90m━━━━━━━━━━━━━━━━━━━━━━━━━━━━━━━━━━━━━━━━\u001b[0m \u001b[32m2.2/2.2 MB\u001b[0m \u001b[31m22.5 MB/s\u001b[0m eta \u001b[36m0:00:00\u001b[0m\n",
      "\u001b[2K     \u001b[90m━━━━━━━━━━━━━━━━━━━━━━━━━━━━━━━━━━━━━━━━\u001b[0m \u001b[32m142.1/142.1 kB\u001b[0m \u001b[31m16.2 MB/s\u001b[0m eta \u001b[36m0:00:00\u001b[0m\n",
      "\u001b[2K     \u001b[90m━━━━━━━━━━━━━━━━━━━━━━━━━━━━━━━━━━━━━━━━\u001b[0m \u001b[32m121.1/121.1 kB\u001b[0m \u001b[31m13.6 MB/s\u001b[0m eta \u001b[36m0:00:00\u001b[0m\n",
      "\u001b[?25h  Building wheel for langchain-cohere (pyproject.toml) ... \u001b[?25l\u001b[?25hdone\n",
      "\u001b[31mERROR: pip's dependency resolver does not currently take into account all the packages that are installed. This behaviour is the source of the following dependency conflicts.\n",
      "torch 2.2.1+cu121 requires nvidia-cublas-cu12==12.1.3.1; platform_system == \"Linux\" and platform_machine == \"x86_64\", which is not installed.\n",
      "torch 2.2.1+cu121 requires nvidia-cuda-cupti-cu12==12.1.105; platform_system == \"Linux\" and platform_machine == \"x86_64\", which is not installed.\n",
      "torch 2.2.1+cu121 requires nvidia-cuda-nvrtc-cu12==12.1.105; platform_system == \"Linux\" and platform_machine == \"x86_64\", which is not installed.\n",
      "torch 2.2.1+cu121 requires nvidia-cuda-runtime-cu12==12.1.105; platform_system == \"Linux\" and platform_machine == \"x86_64\", which is not installed.\n",
      "torch 2.2.1+cu121 requires nvidia-cudnn-cu12==8.9.2.26; platform_system == \"Linux\" and platform_machine == \"x86_64\", which is not installed.\n",
      "torch 2.2.1+cu121 requires nvidia-cufft-cu12==11.0.2.54; platform_system == \"Linux\" and platform_machine == \"x86_64\", which is not installed.\n",
      "torch 2.2.1+cu121 requires nvidia-curand-cu12==10.3.2.106; platform_system == \"Linux\" and platform_machine == \"x86_64\", which is not installed.\n",
      "torch 2.2.1+cu121 requires nvidia-cusolver-cu12==11.4.5.107; platform_system == \"Linux\" and platform_machine == \"x86_64\", which is not installed.\n",
      "torch 2.2.1+cu121 requires nvidia-cusparse-cu12==12.1.0.106; platform_system == \"Linux\" and platform_machine == \"x86_64\", which is not installed.\n",
      "torch 2.2.1+cu121 requires nvidia-nccl-cu12==2.19.3; platform_system == \"Linux\" and platform_machine == \"x86_64\", which is not installed.\n",
      "torch 2.2.1+cu121 requires nvidia-nvtx-cu12==12.1.105; platform_system == \"Linux\" and platform_machine == \"x86_64\", which is not installed.\n",
      "jupyter-server 1.24.0 requires anyio<4,>=3.1.0, but you have anyio 4.3.0 which is incompatible.\u001b[0m\u001b[31m\n",
      "\u001b[0m"
     ]
    }
   ],
   "source": [
    "! pip install --force-reinstall --quiet 'git+https://github.com/BeatrixCohere/langchain.git@beatrix/MultiHopAgent#subdirectory=libs/partners/cohere&egg=langchain-cohere'"
   ]
  },
  {
   "cell_type": "code",
   "execution_count": 8,
   "metadata": {
    "id": "K9rrOrKWJaBd"
   },
   "outputs": [],
   "source": [
    "### LLMs\n",
    "import os\n",
    "COHERE_API_KEY = \"a344FMSW0GsEpjLdqov1QK1jIJ4g2yg1BQ7RAzl9\" # <your-api-key>\n",
    "# TAVILY_API_KEY = \"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\" # <your-api-key>"
   ]
  },
  {
   "cell_type": "code",
   "execution_count": null,
   "metadata": {
    "id": "hPybpQ5whLkv"
   },
   "outputs": [],
   "source": []
  },
  {
   "cell_type": "markdown",
   "metadata": {
    "id": "k3mrKxSsTfXO"
   },
   "source": [
    "# Define tools"
   ]
  },
  {
   "cell_type": "markdown",
   "metadata": {
    "id": "4kGUB4IRF3W5"
   },
   "source": [
    "### Web search tool"
   ]
  },
  {
   "cell_type": "code",
   "execution_count": 9,
   "metadata": {
    "id": "hYsJgVY0F3W5"
   },
   "outputs": [],
   "source": [
    "from langchain_community.tools.tavily_search import TavilySearchResults\n",
    "\n",
    "os.environ['TAVILY_API_KEY'] = \"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\"\n",
    "web_search_tool = TavilySearchResults(max_results=3)\n"
   ]
  },
  {
   "cell_type": "markdown",
   "metadata": {
    "id": "rsd-REnMhOq-"
   },
   "source": [
    "### Python interpreter tool"
   ]
  },
  {
   "cell_type": "code",
   "execution_count": 10,
   "metadata": {
    "id": "Zblt8Wm6aV0l"
   },
   "outputs": [],
   "source": [
    "from langchain.agents import Tool\n",
    "from langchain_experimental.utilities import PythonREPL\n",
    "\n",
    "python_repl = PythonREPL()\n",
    "\n",
    "repl_tool = Tool(\n",
    "    name=\"python_repl\",\n",
    "    description=\"Executes python code and returns the result. The code runs in a static sandbox without interactive mode, so print output or save output to a file.\",\n",
    "    func=python_repl.run,\n",
    ")\n"
   ]
  },
  {
   "cell_type": "markdown",
   "metadata": {
    "id": "OjWgvH5MsUZs"
   },
   "source": []
  },
  {
   "cell_type": "markdown",
   "metadata": {
    "id": "sZ0OWLtPsNik"
   },
   "source": [
    "### A tool based on a function"
   ]
  },
  {
   "cell_type": "code",
   "execution_count": 11,
   "metadata": {
    "id": "1rizjYZ1sQwz"
   },
   "outputs": [],
   "source": [
    "# demo how to easily transform a python function into a tool ?\n"
   ]
  },
  {
   "cell_type": "markdown",
   "metadata": {
    "id": "2ENQAfYXRG9Q"
   },
   "source": [
    "# Create ReAct Agent"
   ]
  },
  {
   "cell_type": "code",
   "execution_count": 12,
   "metadata": {
    "id": "hx-Ew1i5F3W4"
   },
   "outputs": [],
   "source": [
    "from langchain.agents import AgentExecutor\n",
    "from langchain_cohere.chat_models import ChatCohere\n",
    "from langchain_cohere.react_multi_hop.agent import create_cohere_react_agent\n",
    "from langchain_core.prompts import ChatPromptTemplate"
   ]
  },
  {
   "cell_type": "code",
   "execution_count": 13,
   "metadata": {
    "id": "BPo3ZIHkF3W4"
   },
   "outputs": [],
   "source": [
    "# Create the prompt\n",
    "prompt = ChatPromptTemplate.from_template(\n",
    "    \"{input}\"\n",
    ")\n",
    "\n",
    "# Create the Cohere chat model\n",
    "chat = ChatCohere(cohere_api_key=COHERE_API_KEY, model=\"command-r\")\n",
    "\n",
    "# Create the ReAct agent\n",
    "agent = create_cohere_react_agent(\n",
    "    llm=chat,\n",
    "    tools=[web_search_tool, repl_tool],\n",
    "    prompt=prompt,\n",
    ")"
   ]
  },
  {
   "cell_type": "code",
   "execution_count": null,
   "metadata": {
    "colab": {
     "base_uri": "https://localhost:8080/",
     "height": 1000
    },
    "id": "Jl0JNX2TF3W5",
    "outputId": "5e4243ad-f591-4287-d42f-e921b2674fff"
   },
   "outputs": [
    {
     "name": "stdout",
     "output_type": "stream",
     "text": [
      "\n",
      "\n",
      "\u001b[1m> Entering new AgentExecutor chain...\u001b[0m\n",
      "\u001b[32;1m\u001b[1;3mCalling: {'tool_name': 'tavily_search_results_json', 'parameters': {'query': 'three most valuable companies number of employees'}} with plan I will search for the three most valuable companies and their number of full-time employees, then write and execute Python code to plot the data.\u001b[0m\u001b[36;1m\u001b[1;3m[{'url': 'https://www.visualcapitalist.com/profit-per-employee-top-u-s-companies-ranking/', 'content': \"That said, the top 10 within this cohort boasted an average profit per employee of $1.13 million, while the bottom 10 companies sit at an average of $348,300. Of course, companies not making the ranking would have even more modest numbers. For example, it's estimated that Starbucks makes around $80,000 per employee, and Coca-Cola makes around ...\"}, {'url': 'https://www.statista.com/statistics/264671/top-50-companies-based-on-number-of-employees/', 'content': 'Largest companies in the world based on revenues, by number of employees 2022\\nAmazon\\nLeading 500 Fortune companies based on number of employees in 2022\\nAdditional Information\\nShow sources information\\nShow publisher information\\nUse Ask Statista Research Service\\nJanuary 2023\\nWorldwide\\nDecember 2022\\nOther statistics on the topic\\nEconomy\\nBiggest companies in the world by market value 2023\\nEconomy\\nTop companies in the world by revenue 2022\\nB2C E-Commerce\\nNumber of Amazon.com employees 2007-2022\\nFinancial Instruments & Investments\\nWeekly development Dow Jones Industrial Average Index 2020-2023\\nTo download this statistic in XLS format you need a Statista Account\\nTo download this statistic in PNG format you need a Statista Account\\nTo download this statistic in PDF format you need a Statista Account\\nTo download this statistic in PPT format you need a Statista Account\\nAs a Premium user you get access to the detailed source references and background information about this statistic.\\n Industry Overview\\nDigital & Trend reports\\nOverview and forecasts on trending topics\\nIndustry & Market reports\\nIndustry and market insights and forecasts\\nCompanies & Products reports\\nKey figures and rankings about companies and products\\nConsumer & Brand reports\\nConsumer and brand insights and preferences in various industries\\nPolitics & Society reports\\nDetailed information about political and social topics\\nCountry & Region reports\\nAll key figures about countries and regions\\nMarket forecast and expert KPIs for 1000+ markets in 190+ countries & territories\\nInsights on consumer attitudes and behavior worldwide\\nBusiness information on 100m+ public and private companies\\nExplore Company Insights\\nDetailed information for 39,000+ online stores and marketplaces\\nDirectly accessible data for 170 industries from 150+ countries\\nand over 1\\xa0Mio. facts.\\n Statistics on\\n\"\\nCompanies worldwide\\n\"\\nOther statistics that may interest you Companies worldwide\\nOverview\\nLargest companies\\nStartups\\nTechnology & sustainability\\nDiversity\\nCovid crisis & recovery\\nFurther related statistics\\nFurther Content: You might find this interesting as well\\nStatistics\\nTopics Transforming data into design:\\nStatista Content & Design\\nStrategy and business building for the data-driven economy:\\nIndustry-specific and extensively researched technical data (partially from exclusive partnerships). Customized Research & Analysis projects:\\nGet quick analyses with our professional research service\\nThe best of the best: the portal for top lists & rankings:\\n'}, {'url': 'https://companiesmarketcap.com/largest-companies-by-number-of-employees/', 'content': \"Woolworths Group. WOW.AX. 200,364. $21.57. 1.91%. 🇦🇺 Australia. This is the list of the world's largest public companies by market number of full-time and part-tim employees. Next 100 .\"}]\u001b[0m\u001b[32;1m\u001b[1;3mCalling: {'tool_name': 'tavily_search_results_json', 'parameters': {'query': 'amazon number of employees'}} with plan The three most valuable companies with the highest number of employees are Amazon, Woolworths Group and Apple. I will now search for the number of employees at each of these companies to gather data for the plot.\u001b[0m\u001b[36;1m\u001b[1;3m[{'url': 'https://www.macrotrends.net/stocks/charts/AMZN/amazon/number-of-employees', 'content': 'Interactive chart of Amazon (AMZN) annual worldwide employee count from 2010 to 2023. Amazon total number of employees in 2023 was 1,525,000, a 1.04% decline from 2022. Amazon total number of employees in 2022 was 1,541,000, a 4.17% decline from 2021. Amazon total number of employees in 2021 was 1,608,000, a 23.88% increase from 2020.'}, {'url': 'https://www.statista.com/statistics/234488/number-of-amazon-employees/', 'content': 'Industry Overview\\nDigital & Trend reports\\nOverview and forecasts on trending topics\\nIndustry & Market reports\\nIndustry and market insights and forecasts\\nCompanies & Products reports\\nKey figures and rankings about companies and products\\nConsumer & Brand reports\\nConsumer and brand insights and preferences in various industries\\nPolitics & Society reports\\nDetailed information about political and social topics\\nCountry & Region reports\\nAll key figures about countries and regions\\nMarket forecast and expert KPIs for 1000+ markets in 190+ countries & territories\\nInsights on consumer attitudes and behavior worldwide\\nBusiness information on 100m+ public and private companies\\nExplore Company Insights\\nDetailed information for 39,000+ online stores and marketplaces\\nDirectly accessible data for 170 industries from 150+ countries\\nand over 1\\xa0Mio. facts.\\n Other statistics on the topicAmazon\\nGeneral Merchandise\\nAmazon physical store sales worldwide Q4 2019-Q4 2022\\nKey Figures of E-Commerce\\nAmazon\\'s chain retail sales value 2022, by business model\\nB2C E-Commerce\\nValue of Fulfilled-by-Amazon (FBA) fees 2020-2023, by weight\\nE-Commerce\\nExpected growth of brand\\'s revenue generated on Amazon 2022\\nTo download this statistic in XLS format you need a Statista Account\\nTo download this statistic in PNG format you need a Statista Account\\nTo download this statistic in PDF format you need a Statista Account\\nTo download this statistic in PPT format you need a Statista Account\\nAs a Premium user you get access to the detailed source references and background information about this statistic.\\n Number of Amazon.com employees 2007-2023\\nE-commerce crunch\\nDiversifying business\\nNumber of Amazon.com employees from 2007 to 2023\\nAdditional Information\\nShow sources information\\nShow publisher information\\nUse Ask Statista Research Service\\nFebruary 2024\\nWorldwide\\n2007 to 2023\\nYear ending December 31\\nFull-time and part-time; excludes contractors & temporary personnel.\\n Statistics on\\n\"\\nAmazon\\n\"\\nOther statistics that may interest you Amazon\\nOverview\\nBenchmarks and competitors\\nMarketplace vs. direct sales\\nRetail segments\\nOnline traffic\\nFurther related statistics\\nFurther Content: You might find this interesting as well\\nStatistics\\nTopics Transforming data into design:\\nStatista Content & Design\\nStrategy and business building for the data-driven economy:\\nIndustry-specific and extensively researched technical data (partially from exclusive partnerships).'}, {'url': 'https://www.aboutamazon.com/news/workplace/our-workforce-data', 'content': '11 Amazon interview tips from recruiters and hiring managers\\nAmazon named among the world’s most admired companies for the eighth year in a row by ‘Fortune’ magazine\\nEverything you should know about Amazon’s hourly wage and benefits offerings for fulfillment employees\\nAn Amazon recruiting manager offers his 3\\nbest tips for a successful job interview\\nI’m Amazon’s VP of Workplace Safety. A review of the compensation awarded in 2022 at Amazon, including base, cash bonuses, and stock, shows that women globally and in the U.S. earned 99.6 cents and 99.5 cents, respectively, for every dollar that men earned performing the same jobs, and minorities in the U.S. earned 99.5 cents for every dollar that white employees earned performing these same jobs. 8 unique benefits and perks available to Amazon employees\\nMeet 4 Amazon employees who help make the holidays happen for customers\\nAmazon News\\nSign up for the latest news, facts, analysis, and original stories about Amazon, delivered to you weekly. This Self-ID process allows Amazon to gather more inclusive global data on race, gender, and other identities to help give us a more detailed picture of our workforce.\\n Our workforce data\\nWe have made year-over-year progress, and we will continue to strive for better representation across our company.\\n'}]\u001b[0m\u001b[32;1m\u001b[1;3mCalling: {'tool_name': 'tavily_search_results_json', 'parameters': {'query': 'Woolworths Group number of employees'}} with plan The three most valuable companies with the highest number of employees are Amazon, Woolworths Group and Apple. I will now search for the number of employees at each of these companies to gather data for the plot.\u001b[0m\u001b[36;1m\u001b[1;3m[{'url': 'https://www.woolworthsgroup.com.au/content/dam/wwg/investors/reports/2023/f23-full-year/Woolworths Group 2023 Annual Report.pdf', 'content': \"Our pathway to net positive Woolworths Group reaffirms our support for the Uluru 46 Our material risks 60 SECTION 3 Directors' Report Governance 66 Board of Directors 68 ... 1 Total number of members that have joined the program since inception. 2 Includes Woolworths Supermarkets, Metro Food Stores, Countdown Supermarkets and BIG W. ...\"}, {'url': 'https://www.statista.com/statistics/1429437/number-of-employees-woolworths-group-limited/', 'content': 'The number of employees of the company Woolworths Group Limited headquartered in Australia decreased to 198 thousand persons since the previous year. This means a decline of 12.1 thousand persons ...'}, {'url': 'https://en.wikipedia.org/wiki/Woolworths_Group_(Australia)', 'content': 'Woolworths Group Limited is an Australian multinational retail and finance company, ... Sydney, it is the largest company in Australia by revenue and number of employees, and the second-largest in New Zealand. Founded in Sydney in 1924 as variety retailer Woolworths Limited, ...'}]\u001b[0m\u001b[32;1m\u001b[1;3mCalling: {'tool_name': 'tavily_search_results_json', 'parameters': {'query': 'apple number of employees'}} with plan The three most valuable companies with the highest number of employees are Amazon, Woolworths Group and Apple. I will now search for the number of employees at each of these companies to gather data for the plot.\u001b[0m\u001b[36;1m\u001b[1;3m[{'url': 'https://www.macrotrends.net/stocks/charts/AAPL/apple/number-of-employees', 'content': 'Employee Count. Interactive chart of Apple (AAPL) annual worldwide employee count from 2010 to 2023. Apple total number of employees in 2023 was 161,000, a 1.83% decline from 2022. Apple total number of employees in 2022 was 164,000, a 6.49% increase from 2021. Apple total number of employees in 2021 was 154,000, a 4.76% increase from 2020.'}, {'url': 'https://stockanalysis.com/stocks/aapl/employees/', 'content': 'Apple Employees. Apple had 161,000 employees on September 30, 2023. The number of employees decreased by 3,000 or -1.83% compared to the previous year. Employees ... Sources: Annual number of employees according to filings submitted to the U.S. Securities and Exchange Commission (SEC). Data is also manually gathered from company press releases ...'}, {'url': 'https://www.statista.com/statistics/273439/number-of-employees-of-apple-since-2005/', 'content': 'Digital & Trend reports\\nOverview and forecasts on trending topics\\nIndustry & Market reports\\nIndustry and market insights and forecasts\\nCompanies & Products reports\\nKey figures and rankings about companies and products\\nConsumer & Brand reports\\nConsumer and brand insights and preferences in various industries\\nPolitics & Society reports\\nDetailed information about political and social topics\\nCountry & Region reports\\nAll key figures about countries and regions\\nMarket forecast and expert KPIs for 1000+ markets in 190+ countries & territories\\nInsights on consumer attitudes and behavior worldwide\\nBusiness information on 100m+ public and private companies\\nExplore Company Insights\\nDetailed information for 39,000+ online stores and marketplaces\\nDirectly accessible data for 170 industries from 150+ countries\\nand over 1\\xa0Mio. facts.\\n Other statistics on the topicApple\\nConsumer Electronics\\nApple\\'s revenue worldwide 2004-2023\\nConsumer Electronics\\nApple\\'s revenue broken down by geographical region 2012-2023, by quarter\\nTelecommunications\\nQuarterly market share of smartphone vendors in the U.S. 2016-2023\\nConsumer Electronics\\nApple: expenditure on research and development 2007-2023\\nTo download this statistic in XLS format you need a Statista Account\\nTo download this statistic in PNG format you need a Statista Account\\nTo download this statistic in PDF format you need a Statista Account\\nTo download this statistic in PPT format you need a Statista Account\\nAs a Premium user you get access to the detailed source references and background information about this statistic.\\n Statistics on\\n\"\\nApple in the U.S.\\n\"\\nOther statistics that may interest you Apple in the U.S.\\nOverview: Apple\\nOverview: Apple in the U.S.\\nSegment: iPhone\\nSegment: iPad\\nSegment: Mac\\nSegment: Wearables & Smart home\\nFurther related statistics\\nFurther Content: You might find this interesting as well\\nStatistics\\nTopics Number of employees of Apple 2005-2023\\nApple Corporation – additional information\\nApple products\\nApple\\'s number of employees in the fiscal years 2005 to 2023\\n(in 1,000s)\\nAdditional Information\\nShow sources information\\nShow publisher information\\nUse Ask Statista Research Service\\nNovember 2023\\nWorldwide\\n2005 to 2023\\n Transforming data into design:\\nStatista Content & Design\\nStrategy and business building for the data-driven economy:\\nIndustry-specific and extensively researched technical data (partially from exclusive partnerships).'}]\u001b[0m"
     ]
    }
   ],
   "source": [
    "agent_executor = AgentExecutor(agent=agent, tools=[web_search_tool, repl_tool], verbose=True)\n",
    "# agent_executor = AgentExecutor(agent=agent, tools=[web_search_tool], verbose=True)\n",
    "agent_executor.invoke({\"input\": \"Create a plot of the number of full time employees at the three most valuable\"})"
   ]
  }
 ],
 "metadata": {
  "colab": {
   "provenance": []
  },
  "kernelspec": {
   "display_name": "Python 3 (ipykernel)",
   "language": "python",
   "name": "python3"
  },
  "language_info": {
   "codemirror_mode": {
    "name": "ipython",
    "version": 3
   },
   "file_extension": ".py",
   "mimetype": "text/x-python",
   "name": "python",
   "nbconvert_exporter": "python",
   "pygments_lexer": "ipython3",
   "version": "3.11.7"
  }
 },
 "nbformat": 4,
 "nbformat_minor": 4
}
