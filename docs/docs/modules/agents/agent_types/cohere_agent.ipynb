{
 "cells": [
  {
   "cell_type": "raw",
   "metadata": {},
   "source": [
    "---\n",
    "sidebar_position: 0\n",
    "---"
   ]
  },
  {
   "cell_type": "code",
   "execution_count": null,
   "metadata": {},
   "outputs": [],
   "source": [
    "# Cohere tools\n",
    "\n",
    ":::"
   ]
  },
  {
   "cell_type": "code",
   "execution_count": null,
   "metadata": {},
   "outputs": [],
   "source": [
    "Prerequisites: pip install cohere and pip install wikipedia"
   ]
  },
  {
   "cell_type": "code",
   "execution_count": 3,
   "metadata": {},
   "outputs": [
    {
     "name": "stdout",
     "output_type": "stream",
     "text": [
      "\n",
      "\n",
      "\u001b[1m> Entering new AgentExecutor chain...\u001b[0m\n",
      "\u001b[32;1m\u001b[1;3mwikipedia\u001b[0m\u001b[36;1m\u001b[1;3mWikipedia is a free-content online encyclopedia written and maintained by a community of volunteers, known as Wikipedians, through open collaboration and the use of the wiki-based editing system MediaWiki. Wikipedia is the largest and most-read reference work in history. It is consistently ranked as one of the ten most popular websites in the world, and as of 2024 is ranked the fifth most visited website on the Internet by Semrush. Founded by Jimmy Wales and Larry Sanger on January 15, 2001, Wikipedia is hosted by the Wikimedia Foundation, an American nonprofit organization that employs a staff of over 700 people.Initially only available in English, editions in other languages have been developed. Wikipedia's editions, when combined, comprise more than 62 million articles, attracting around 2 billion unique device visits per month and more than 14 million edits per month (about 5.2 edits per second on average)  as of November 2023. Roughly 26% of Wikipedia's traffic is from the United States, followed by Japan at 5.9%, the United Kingdom at 5.4%, Germany at 5%, Russia at 4.8%, and the remaining 54% split among other countries, according to data provided by Similarweb.Wikipedia has been praised for its enablement of the democratization of knowledge, extent of coverage, unique structure, and culture. It has been criticized for exhibiting systemic bias, particularly gender bias against women and geographical bias against the Global South (Eurocentrism). While the reliability of Wikipedia was frequently criticized in the 2000s, it has improved over time, receiving greater praise in the late 2010s and early 2020s, having become an important fact-checking site.Wikipedia has been censored by some national governments, ranging from specific pages to the entire site. Articles on breaking news are often accessed as sources for frequently updated information about those events.\n",
      "\n",
      "\n",
      "== History ==\n",
      "\n",
      "\n",
      "=== Nupedia ===\n",
      "\n",
      "Various collaborative online encyclopedias were attempted before the start of Wikipedia, but with limited success. Wikipedia began as a complementary project for Nupedia, a free online English-language encyclopedia project whose articles were written by experts and reviewed under a formal process. It was founded on March 9, 2000, under the ownership of Bomis, a web portal company. Its main figures were Bomis CEO Jimmy Wales and Larry Sanger, editor-in-chief for Nupedia and later Wikipedia. Nupedia was initially licensed under its own Nupedia Open Content License, but before Wikipedia was founded, Nupedia switched to the GNU Free Documentation License at the urging of Richard Stallman. Wales is credited with defining the goal of making a publicly editable encyclopedia, while Sanger is credited with the strategy of using a wiki to reach that goal. On January 10, 2001, Sanger proposed on the Nupedia mailing list to create a wiki as a \"feeder\" project for Nupedia.\n",
      "\n",
      "\n",
      "=== Launch and growth ===\n",
      "The domains wikipedia.org and wikipedia.com (later redirecting to wikipedia.org) were registered on January 13, 2001, and January 12, 2001, respectively. Wikipedia was launched on January 15, 2001 as a single English-language edition at www.wikipedia.com, and was announced by Sanger on the Nupedia mailing list. The name originated from a blend of the words wiki and encyclopedia. Its integral policy of \"neutral point-of-view\" was codified in its first few months. Otherwise, there were initially relatively few rules, and it operated independently of Nupedia. Bomis originally intended for it to be a for-profit business.\n",
      "Wikipedia gained early contributors from Nupedia, Slashdot postings, and web search engine indexing. Language editions were created beginning in March 2001, with a total of 161 in use by the end of 2004. Nupedia and Wikipedia coexisted until the former's servers were taken down permanently in 2003, and its text was incorporated into Wikipedia. The English Wikipedia passed the mark of two million articles on September 9, 2007, making \n",
      "\n",
      "The English Wikipedia is the primary English-language edition of Wikipedia, an online encyclopedia. It was created by Jimmy Wales and Larry Sanger on January 15, 2001, as Wikipedia's first edition.\n",
      "English Wikipedia is hosted alongside other language editions by the Wikimedia Foundation, an American nonprofit organization. Its content is written independently of other editions in various varieties of English, aiming to stay consistent within articles. Its internal newspaper is The Signpost.\n",
      "English Wikipedia is the most-read version of Wikipedia, accounting for 48% of Wikipedia's cumulative traffic, with the remaining percentage split among the other languages. The English Wikipedia has the most articles of any edition, at 6,795,497 as of March 2024. It contains 10.8% of articles in all Wikipedias, although it lacks millions of articles found in other editions. The edition's one-billionth edit was made on January 13, 2021.English Wikipedia, often as a stand-in for Wikipedia overall, has been praised for its enablement of the democratization of knowledge, extent of coverage, unique structure, culture, and reduced degree of commercial bias. It has been criticized for exhibiting systemic bias, particularly gender bias against women and ideological bias. While its reliability was frequently criticized in the 2000s, it has improved over time, receiving greater praise in the late 2010s and early 2020s, having become an important fact-checking site. English Wikipedia has been characterized as having less cultural bias than other language editions due to its broader editor base.\n",
      "\n",
      "\n",
      "== Articles ==\n",
      "Editors of the English Wikipedia have pioneered some ideas as conventions, policies or features which were later adopted by Wikipedia editions in some of the other languages. These ideas include \"featured articles\", the neutral-point-of-view policy, navigation templates, the sorting of short \"stub\" articles into sub-categories, dispute resolution mechanisms such as mediation and arbitration, and weekly collaborations.It surpassed six million articles on 23 January 2020. In November 2022, the total volume of the compressed texts of its articles amounted to 20 gigabytes.The edition's one-billionth edit was made on 13 January 2021 by Ser Amantio di Nicolao (Steven Pruitt) who as of that date is the user with the highest number of edits on the English Wikipedia, at over four million. Currently, there are 6,795,497 articles created with 914,376 files. The encyclopedia is home to 10.8% of articles in all Wikipedias (down from more than 50% in 2003). The English Wikipedia currently has 47,077,243 registered accounts of which 864 are administrators.\n",
      "\n",
      "\n",
      "== Wikipedians ==\n",
      "The English Wikipedia reached 4,000,000 registered user accounts on 1 April 2007, over a year since the millionth Wikipedian registered an account in February 2006.Over 1,100,000 editors have edited Wikipedia more than 10 times. Over 30,000 editors perform more than 5 edits per month, and over 3,000 perform more than 100 edits per month.On March 1, 2014, The Economist, in an article titled \"The Future of Wikipedia\", cited a trend analysis concerning data published by the Wikimedia Foundation stating that \"[t]he number of editors for the English-language version has fallen by a third in seven years.\" The attrition rate for active editors in English Wikipedia was cited by The Economist as substantially in contrast to statistics for Wikipedia in other languages (non-English Wikipedia). The Economist reported that the number of contributors with an average of five or more edits per month was relatively constant since 2008 for Wikipedia in other languages at approximately 42,000 editors within narrow seasonal variances of about 2,000 editors up or down. The number of active editors in English Wikipedia, by \"sharp\" comparison, was cited as peaking in 2007 at approximately 50,000 and dropping to 30,000 by the start of 2014.\n",
      "The trend analysis published in The Economist presents Wikipedia in ot\n",
      "\n",
      "The German Wikipedia (German: Deutschsprachige Wikipedia) is the German-language edition of Wikipedia, a free and publicly editable online encyclopedia.\n",
      "Founded on March 16, 2001, it is the second-oldest Wikipedia (after the English Wikipedia). It has 2,890,354 articles, making it the third-largest edition of Wikipedia by number of articles as of 2023, behind the English Wikipedia and the mostly bot-generated Cebuano Wikipedia. It has the second-largest number of edits behind the English Wikipedia and over 260,000 disambiguation pages. On November 7, 2011, it became the second edition of Wikipedia, after the English edition, to exceed 100 million page edits.\n",
      "The German Wikipedia is criticized because of several ongoing political manipulations by paid editors who overwhelm a small number of administrators.\n",
      "\n",
      "\n",
      "== History ==\n",
      "\n",
      "\n",
      "=== Early history ===\n",
      "The German edition of Wikipedia was the first non-English Wikipedia subdomain, and was originally named deutsche.wikipedia.com. Its creation was announced by Jimmy Wales on 16 March 2001. One of the earliest snapshots of the home page, dated 21 March 2001 (revision #9), can be seen at the Wayback Machine site.  Aside from the home page, creation of articles in the German Wikipedia started as early as April 2001, apparently with translations of Nupedia articles.  After the Catalan Wikipedia, the German Wikipedia was the second non-English edition to contain articles; The earliest article still available on Wikipedia's site is apparently Polymerase-Kettenreaktion, dated May 2001.Andrew Lih wrote that the hacker culture in Germany and the verein concept solidified the German Wikipedia's culture. The geography of Europe facilitated face-to-face meetups among German Wikipedians.\n",
      "\n",
      "\n",
      "=== Growth, coverage and popularity ===\n",
      "On 27 December 2009, the German Wikipedia edition exceeded 1,000,000 articles, becoming the first edition after the English-language Wikipedia to do so. The millionth article was Ernie Wasson. In November 2008, 90% of the edition's articles had more than 512 bytes, 49% had more than 2 kilobytes, and the average article size was 3,476 bytes. In the middle of 2009, this edition had nearly 250,000 biographies and in December 2006 more than 48,500 disambiguations.Compared to the English Wikipedia, the German edition tends to be more selective in its coverage, often rejecting small stubs, articles about individual fictional characters and similar materials. Instead, there is usually one article about all the characters from a specific fictional setting, usually only when the setting is considered important enough (for example, all characters from Star Wars are listed in a single article). A dedicated article about a single fictional entity generally exists only if the character in question has a very significant impact on popular culture (for example, Hercule Poirot). Andrew Lih wrote that German Wikipedia users believe that \"having no article at all is better than a very bad article.\" Therefore, growth on the German Wikipedia leveled before it did for the English Wikipedia, with accelerating growth in article count shifting to constant growth in mid-2006. The number of users signing up for accounts began to steadily decline in 2007 through 2008.\n",
      "The number of volunteer authors began to stagnate in 2007 and has decreased since that. In Germany, the number of regularly active authors fell by more than a third from the peak of 9,254 at the beginning of 2008 to 5,862 at the end of 2015.The January 2005 Google Zeitgeist announced that \"Wikipedia\" was the eighth most-searched query on www.google.de. In February 2005, Wikipedia reached third place behind Firefox and Valentine's Day. In June 2005, Wikipedia ranked first.\n",
      "\n",
      "\n",
      "=== Lack of diversity, decline of authors and paid editing ===\n",
      "On the 20th anniversary of Wikipedia, the German-language edition faced a number of problems. According to German media the most significant are the a lack of diversity, a decline in active users and the in\u001b[0m\u001b[32;1m\u001b[1;3m\u001b[0m\n",
      "\n",
      "\u001b[1m> Finished chain.\u001b[0m\n"
     ]
    },
    {
     "data": {
      "text/plain": [
       "{'input': 'Who founded wikipedia',\n",
       " 'text': 'Wikipedia was founded by Jimmy Wales and Larry Sanger.',\n",
       " 'additional_info': {'tool_calls': None,\n",
       "  'documents': [{'answer': 'Wikipedia is a free-content online encyclopedia written and maintained by a community of volunteers, known as Wikipedians, through open collaboration and the use of the wiki-based editing system MediaWiki. Wikipedia is the largest and most-read reference work in history. It is consistently ranked as one of the ten most popular websites in the world, and as of 2024 is ranked the fifth most visited website on the Internet by Semrush. Founded by Jimmy Wales and Larry Sanger on January 15, 2001, Wikipedia is hosted by the Wikimedia Foundation, an American nonprofit organization that employs a staff of over 700 people.Initially only available in English, editions in other languages have been developed. Wikipedia\\'s editions, when combined, comprise more than 62 million articles, attracting around 2 billion unique device visits per month and more than 14 million edits per month (about 5.2 edits per second on average)  as of November 2023. Roughly 26% of Wikipedia\\'s traffic is from the United States, followed by Japan at 5.9%, the United Kingdom at 5.4%, Germany at 5%, Russia at 4.8%, and the remaining 54% split among other countries, according to data provided by Similarweb.Wikipedia has been praised for its enablement of the democratization of knowledge, extent of coverage, unique structure, and culture. It has been criticized for exhibiting systemic bias, particularly gender bias against women and geographical bias against the Global South (Eurocentrism). While the reliability of Wikipedia was frequently criticized in the 2000s, it has improved over time, receiving greater praise in the late 2010s and early 2020s, having become an important fact-checking site.Wikipedia has been censored by some national governments, ranging from specific pages to the entire site. Articles on breaking news are often accessed as sources for frequently updated information about those events.\\n\\n\\n== History ==\\n\\n\\n=== Nupedia ===\\n\\nVarious collaborative online encyclopedias were attempted before the start of Wikipedia, but with limited success. Wikipedia began as a complementary project for Nupedia, a free online English-language encyclopedia project whose articles were written by experts and reviewed under a formal process. It was founded on March 9, 2000, under the ownership of Bomis, a web portal company. Its main figures were Bomis CEO Jimmy Wales and Larry Sanger, editor-in-chief for Nupedia and later Wikipedia. Nupedia was initially licensed under its own Nupedia Open Content License, but before Wikipedia was founded, Nupedia switched to the GNU Free Documentation License at the urging of Richard Stallman. Wales is credited with defining the goal of making a publicly editable encyclopedia, while Sanger is credited with the strategy of using a wiki to reach that goal. On January 10, 2001, Sanger proposed on the Nupedia mailing list to create a wiki as a \"feeder\" project for Nupedia.\\n\\n\\n=== Launch and growth ===\\nThe domains wikipedia.org and wikipedia.com (later redirecting to wikipedia.org) were registered on January 13, 2001, and January 12, 2001, respectively. Wikipedia was launched on January 15, 2001 as a single English-language edition at www.wikipedia.com, and was announced by Sanger on the Nupedia mailing list. The name originated from a blend of the words wiki and encyclopedia. Its integral policy of \"neutral point-of-view\" was codified in its first few months. Otherwise, there were initially relatively few rules, and it operated independently of Nupedia. Bomis originally intended for it to be a for-profit business.\\nWikipedia gained early contributors from Nupedia, Slashdot postings, and web search engine indexing. Language editions were created beginning in March 2001, with a total of 161 in use by the end of 2004. Nupedia and Wikipedia coexisted until the former\\'s servers were taken down permanently in 2003, and its text was incorporated into Wikipedia. The English Wikipedia passed the mark of two million articles on September 9, 2007, making \\n\\nThe English Wikipedia is the primary English-language edition of Wikipedia, an online encyclopedia. It was created by Jimmy Wales and Larry Sanger on January 15, 2001, as Wikipedia\\'s first edition.\\nEnglish Wikipedia is hosted alongside other language editions by the Wikimedia Foundation, an American nonprofit organization. Its content is written independently of other editions in various varieties of English, aiming to stay consistent within articles. Its internal newspaper is The Signpost.\\nEnglish Wikipedia is the most-read version of Wikipedia, accounting for 48% of Wikipedia\\'s cumulative traffic, with the remaining percentage split among the other languages. The English Wikipedia has the most articles of any edition, at 6,795,497 as of March 2024. It contains 10.8% of articles in all Wikipedias, although it lacks millions of articles found in other editions. The edition\\'s one-billionth edit was made on January 13, 2021.English Wikipedia, often as a stand-in for Wikipedia overall, has been praised for its enablement of the democratization of knowledge, extent of coverage, unique structure, culture, and reduced degree of commercial bias. It has been criticized for exhibiting systemic bias, particularly gender bias against women and ideological bias. While its reliability was frequently criticized in the 2000s, it has improved over time, receiving greater praise in the late 2010s and early 2020s, having become an important fact-checking site. English Wikipedia has been characterized as having less cultural bias than other language editions due to its broader editor base.\\n\\n\\n== Articles ==\\nEditors of the English Wikipedia have pioneered some ideas as conventions, policies or features which were later adopted by Wikipedia editions in some of the other languages. These ideas include \"featured articles\", the neutral-point-of-view policy, navigation templates, the sorting of short \"stub\" articles into sub-categories, dispute resolution mechanisms such as mediation and arbitration, and weekly collaborations.It surpassed six million articles on 23 January 2020. In November 2022, the total volume of the compressed texts of its articles amounted to 20 gigabytes.The edition\\'s one-billionth edit was made on 13 January 2021 by Ser Amantio di Nicolao (Steven Pruitt) who as of that date is the user with the highest number of edits on the English Wikipedia, at over four million. Currently, there are 6,795,497 articles created with 914,376 files. The encyclopedia is home to 10.8% of articles in all Wikipedias (down from more than 50% in 2003). The English Wikipedia currently has 47,077,243 registered accounts of which 864 are administrators.\\n\\n\\n== Wikipedians ==\\nThe English Wikipedia reached 4,000,000 registered user accounts on 1 April 2007, over a year since the millionth Wikipedian registered an account in February 2006.Over 1,100,000 editors have edited Wikipedia more than 10 times. Over 30,000 editors perform more than 5 edits per month, and over 3,000 perform more than 100 edits per month.On March 1, 2014, The Economist, in an article titled \"The Future of Wikipedia\", cited a trend analysis concerning data published by the Wikimedia Foundation stating that \"[t]he number of editors for the English-language version has fallen by a third in seven years.\" The attrition rate for active editors in English Wikipedia was cited by The Economist as substantially in contrast to statistics for Wikipedia in other languages (non-English Wikipedia). The Economist reported that the number of contributors with an average of five or more edits per month was relatively constant since 2008 for Wikipedia in other languages at approximately 42,000 editors within narrow seasonal variances of about 2,000 editors up or down. The number of active editors in English Wikipedia, by \"sharp\" comparison, was cited as peaking in 2007 at approximately 50,000 and dropping to 30,000 by the start of 2014.\\nThe trend analysis published in The Economist presents Wikipedia in ot\\n\\nThe German Wikipedia (German: Deutschsprachige Wikipedia) is the German-language edition of Wikipedia, a free and publicly editable online encyclopedia.\\nFounded on March 16, 2001, it is the second-oldest Wikipedia (after the English Wikipedia). It has 2,890,354 articles, making it the third-largest edition of Wikipedia by number of articles as of 2023, behind the English Wikipedia and the mostly bot-generated Cebuano Wikipedia. It has the second-largest number of edits behind the English Wikipedia and over 260,000 disambiguation pages. On November 7, 2011, it became the second edition of Wikipedia, after the English edition, to exceed 100 million page edits.\\nThe German Wikipedia is criticized because of several ongoing political manipulations by paid editors who overwhelm a small number of administrators.\\n\\n\\n== History ==\\n\\n\\n=== Early history ===\\nThe German edition of Wikipedia was the first non-English Wikipedia subdomain, and was originally named deutsche.wikipedia.com. Its creation was announced by Jimmy Wales on 16 March 2001. One of the earliest snapshots of the home page, dated 21 March 2001 (revision #9), can be seen at the Wayback Machine site.  Aside from the home page, creation of articles in the German Wikipedia started as early as April 2001, apparently with translations of Nupedia articles.  After the Catalan Wikipedia, the German Wikipedia was the second non-English edition to contain articles; The earliest article still available on Wikipedia\\'s site is apparently Polymerase-Kettenreaktion, dated May 2001.Andrew Lih wrote that the hacker culture in Germany and the verein concept solidified the German Wikipedia\\'s culture. The geography of Europe facilitated face-to-face meetups among German Wikipedians.\\n\\n\\n=== Growth, coverage and popularity ===\\nOn 27 December 2009, the German Wikipedia edition exceeded 1,000,000 articles, becoming the first edition after the English-language Wikipedia to do so. The millionth article was Ernie Wasson. In November 2008, 90% of the edition\\'s articles had more than 512 bytes, 49% had more than 2 kilobytes, and the average article size was 3,476 bytes. In the middle of 2009, this edition had nearly 250,000 biographies and in December 2006 more than 48,500 disambiguations.Compared to the English Wikipedia, the German edition tends to be more selective in its coverage, often rejecting small stubs, articles about individual fictional characters and similar materials. Instead, there is usually one article about all the characters from a specific fictional setting, usually only when the setting is considered important enough (for example, all characters from Star Wars are listed in a single article). A dedicated article about a single fictional entity generally exists only if the character in question has a very significant impact on popular culture (for example, Hercule Poirot). Andrew Lih wrote that German Wikipedia users believe that \"having no article at all is better than a very bad article.\" Therefore, growth on the German Wikipedia leveled before it did for the English Wikipedia, with accelerating growth in article count shifting to constant growth in mid-2006. The number of users signing up for accounts began to steadily decline in 2007 through 2008.\\nThe number of volunteer authors began to stagnate in 2007 and has decreased since that. In Germany, the number of regularly active authors fell by more than a third from the peak of 9,254 at the beginning of 2008 to 5,862 at the end of 2015.The January 2005 Google Zeitgeist announced that \"Wikipedia\" was the eighth most-searched query on www.google.de. In February 2005, Wikipedia reached third place behind Firefox and Valentine\\'s Day. In June 2005, Wikipedia ranked first.\\n\\n\\n=== Lack of diversity, decline of authors and paid editing ===\\nOn the 20th anniversary of Wikipedia, the German-language edition faced a number of problems. According to German media the most significant are the a lack of diversity, a decline in active users and the in',\n",
       "    'id': 'wikipedia:0:0'}],\n",
       "  'citations': [{'start': 25,\n",
       "    'end': 54,\n",
       "    'text': 'Jimmy Wales and Larry Sanger.',\n",
       "    'document_ids': ['wikipedia:0:0']}],\n",
       "  'search_results': None,\n",
       "  'search_queries': None,\n",
       "  'is_search_required': None,\n",
       "  'token_count': {'prompt_tokens': 3387,\n",
       "   'response_tokens': 10,\n",
       "   'total_tokens': 3397,\n",
       "   'billed_tokens': 21},\n",
       "  'generation_id': 'e0addefd-6788-4aad-afd9-99acd03dc748'}}"
      ]
     },
     "execution_count": 3,
     "metadata": {},
     "output_type": "execute_result"
    }
   ],
   "source": [
    "from langchain_community.chat_models import ChatCohere\n",
    "from langchain.agents import create_cohere_tools_agent\n",
    "from langchain.tools.retriever import create_retriever_tool\n",
    "from langchain.retrievers import WikipediaRetriever\n",
    "from langchain_core.prompts import ChatPromptTemplate\n",
    "from langchain.agents import AgentExecutor\n",
    "\n",
    "prompt = ChatPromptTemplate.from_template(\"Write all output in capital letters. {input}\")\n",
    "\n",
    "chat = ChatCohere(\n",
    "    cohere_api_key=\"API_KEY\",\n",
    "    model=\"command-nightly\"\n",
    ")\n",
    "\n",
    "retriever = WikipediaRetriever()\n",
    "retriever_tool = create_retriever_tool(\n",
    "    retriever,\n",
    "    \"wikipedia\",\n",
    "    \"Search for information on Wikipedia\",\n",
    ")\n",
    "agent = create_cohere_tools_agent(\n",
    "    llm=chat,\n",
    "    tools=[retriever_tool],\n",
    "    prompt=prompt,\n",
    ")\n",
    "agent_executor = AgentExecutor(agent=agent, tools=[retriever_tool], verbose=True)\n",
    "agent_executor.invoke({\"input\": \"Who founded wikipedia\"})"
   ]
  }
 ],
 "metadata": {
  "kernelspec": {
   "display_name": "Python 3 (ipykernel)",
   "language": "python",
   "name": "python3"
  },
  "language_info": {
   "codemirror_mode": {
    "name": "ipython",
    "version": 3
   },
   "file_extension": ".py",
   "mimetype": "text/x-python",
   "name": "python",
   "nbconvert_exporter": "python",
   "pygments_lexer": "ipython3",
   "version": "3.11.7"
  }
 },
 "nbformat": 4,
 "nbformat_minor": 4
}
