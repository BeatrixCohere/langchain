{
 "cells": [
  {
   "cell_type": "raw",
   "metadata": {},
   "source": [
    "---\n",
    "sidebar_position: 0\n",
    "---"
   ]
  },
  {
   "cell_type": "markdown",
   "metadata": {},
   "source": [
    "# Cohere Tools\n",
    "\n",
    "The following notebook goes over how to use the Cohere tools agent:"
   ]
  },
  {
   "cell_type": "markdown",
   "metadata": {},
   "source": [
    "Prerequisites for this notebook:"
   ]
  },
  {
   "cell_type": "code",
   "execution_count": null,
   "metadata": {},
   "outputs": [],
   "source": [
    "%pip install cohere\n",
    "%pip install wikipedia"
   ]
  },
  {
   "cell_type": "code",
   "execution_count": 1,
   "metadata": {},
   "outputs": [],
   "source": [
    "from langchain.agents import AgentExecutor, create_cohere_tools_agent\n",
    "from langchain.retrievers import WikipediaRetriever\n",
    "from langchain.tools.retriever import create_retriever_tool\n",
    "from langchain_community.chat_models import ChatCohere\n",
    "from langchain_core.prompts import ChatPromptTemplate"
   ]
  },
  {
   "cell_type": "markdown",
   "metadata": {},
   "source": [
    "Next we create the prompt template and cohere model"
   ]
  },
  {
   "cell_type": "code",
   "execution_count": 2,
   "metadata": {},
   "outputs": [],
   "source": [
    "# Create the prompt\n",
    "prompt = ChatPromptTemplate.from_template(\n",
    "    \"Write all output in capital letters. {input}\"\n",
    ")\n",
    "\n",
    "# Create the Cohere chat model\n",
    "chat = ChatCohere(cohere_api_key=\"API_KEY\", model=\"command-r\")"
   ]
  },
  {
   "cell_type": "markdown",
   "metadata": {},
   "source": [
    "In this example we use a Wikipedia retrieval tool "
   ]
  },
  {
   "cell_type": "code",
   "execution_count": 3,
   "metadata": {},
   "outputs": [],
   "source": [
    "retriever = WikipediaRetriever()\n",
    "retriever_tool = create_retriever_tool(\n",
    "    retriever,\n",
    "    \"wikipedia\",\n",
    "    \"Search for information on Wikipedia\",\n",
    ")"
   ]
  },
  {
   "cell_type": "markdown",
   "metadata": {},
   "source": [
    "Next, create the cohere tool agent and call with the input"
   ]
  },
  {
   "cell_type": "code",
   "execution_count": 4,
   "metadata": {},
   "outputs": [
    {
     "name": "stdout",
     "output_type": "stream",
     "text": [
      "\n",
      "\n",
      "\u001b[1m> Entering new AgentExecutor chain...\u001b[0m\n",
      "\u001b[32;1m\u001b[1;3mwikipedia\u001b[0m\u001b[36;1m\u001b[1;3mCohere is a Canadian multinational technology company focused on artificial intelligence for the enterprise, specializing in large language models. Cohere was founded in 2019 by Aidan Gomez, Ivan Zhang, and Nick Frosst, and is headquartered in Toronto and San Francisco, with offices in Palo Alto and London.\n",
      "\n",
      "\n",
      "== History ==\n",
      "In 2017, a team of researchers at Google Brain, which included Aidan Gomez, published a paper called \"Attention is All You Need,\" which introduced the transformer machine learning architecture, setting state-of-the-art performance on a variety of natural language processing tasks. In 2019, Gomez and Nick Frosst, another researcher at Google Brain, founded Cohere along with Ivan Zhang, with whom Gomez had done research at FOR.ai. All of the co-founders attended University of Toronto.Gomez has been serving as the company's CEO since its founding. On December 13, 2022, it was announced that Cohere had appointed former YouTube CFO Martin Kon as their new president and chief operating officer.In November 2021, Google Cloud announced that they would help power Cohere's platform using their robust infrastructure, and Cloud's TPUs would be used by Cohere for the development and deployment of their products.In June 2022, Cohere launched Cohere For AI, a nonprofit research lab and community dedicated to contributing open-source, fundamental machine learning research. It is led by Sara Hooker, a former research scientist at Google Brain.In December 2022, Cohere released a multilingual model for understanding text that would work with over 100 languages, to help users search for documents by meaning instead of with keywords. This type of process was not previously widely available in languages other than English.On June 13, 2023, Oracle announced a partnership with Cohere to provide generative AI services to help organizations automate end-to-end business processes. As a result, Cohere's technology is integrated into Oracle's business applications, including Oracle Fusion Cloud, Oracle NetSuite, and Oracle industry-specific applications. On July 18, 2023, McKinsey announced a collaboration with Cohere, to help organizations integrate generative AI into their operations. In 2023, Cohere collaborated with software company LivePerson to offer customized large language models for businesses.On September 12, 2023, it was announced that Cohere had become one of 15 tech companies to agree to voluntary White House measures on testing, reporting, and research on the risks of AI. On September 27, 2023, it was announced that Cohere had also signed Canada's voluntary code of conduct for AI, to promote the responsible development and management of advanced generative AI systems.\n",
      "\n",
      "\n",
      "== Products ==\n",
      "Considered an alternative to OpenAI, Cohere is focused on generative AI for the enterprise, building technology that businesses can use to deploy chatbots, search engines, copywriting, summarization, and other AI-driven products. Cohere specializes in large language models: AI trained to digest text from an enterprises' internal data or publicly available sources like the internet to understand how to process and respond to prompts with increasing sophistication.The Cohere platform is available through API as a managed service, through platforms such as Amazon SageMaker and Google's Vertex AI. It can be used for tasks such as writing copy, moderating content, classifying data, and extracting information. It is cloud agnostic and not tied to a particular cloud service.Cohere's generative AI technology is embedded into several Oracle products, and its chat capabilities are embedded into Salesforce products.\n",
      "\n",
      "\n",
      "== Funding ==\n",
      "On September 7, 2021, Cohere announced that they had raised $40 million in Series A funding led by Index Ventures; Index Ventures partner Mike Volpi also joined Cohere's board. The round also included Radical Ventures, Section 32, and AI-experts Geoffrey Hinton, Fei-Fei Li, Pieter Abbeel, and Raquel Urtasun.In February 2022,\n",
      "\n",
      "Aidan Gomez is a British-Canadian computer scientist working in the field of artificial intelligence, with a focus on natural language processing. He is the co-founder and CEO of the technology company Cohere.\n",
      "\n",
      "\n",
      "== Early life and education ==\n",
      "Gomez grew up in Brighton, Ontario. He graduated from the University of Toronto with a bachelor's degree in computer science and mathematics. He is pursuing a PhD in computer science from the University of Oxford.\n",
      "\n",
      "\n",
      "== Career ==\n",
      "In 2017, as a 20 year-old intern at Google Brain, Gomez was one of eight authors of the research paper \"Attention Is All You Need\", which is credited with changing the AI industry and helping lead to the creation of ChatGPT. The paper proposed a novel deep learning architecture called the transformer, that enables machine learning models to analyze large amounts of data for patterns, and then use those patterns to make predictions.  It has been commonly adopted for training large language models and in the development of generative AI. In 2017, Gomez founded FOR.ai, a program to help researchers learn machine learning techniques in a collaborative format, which later became Cohere For AI.As a PhD student, Gomez worked as a machine learning researcher at Google Brain. At that time, he co-authored the paper \"One Model to Learn Them All\" about multi-task learning by a single neural network.In 2019, Gomez left Google Brain to launch Cohere, an enterprise-focused company that helps businesses implement AI into chatbots, search engines, and other products. He is CEO of the company, which has been valued at over $2 billion.Gomez was named to the 2023 Time 100/AI list of the most influential people in the field of artificial intelligence. He and his fellow Cohere founders Ivan Zhang and Nick Frosst were named number 1 on 2023 Maclean's AI Trailblazers Power List.\n",
      "\n",
      "\n",
      "== References ==\n",
      "\n",
      "Cohere Technologies is a telecoms software company based in San Jose, California that develops technology for boosting the network performance of 4G and 5G spectrum in wireless networks. Cohere holds the patents for the Orthogonal Time Frequency Space (OTFS) 2D modulation technique used to improve the performance of 4G and 5G networks and is being considered as a waveform for the future 6G wireless standard.\n",
      "\n",
      "\n",
      "== History ==\n",
      "Cohere Technologies was founded in 2011 by Shlomo Rakib, a serial entrepreneur, and Ronny Hadani, an associate professor of mathematics at the University of Texas, Austin. The pair patented the OTFS waveform in 2010.Ray Dolan, co-founder of Flarion Technologies (acquired by Qualcomm in 2006), joined Cohere Technologies as the company's chairman and CEO in October 2018.Cohere Technologies'  first trials of OFTS with a carrier took place at Telefónica in 2018.In 2018, the company changed its focus to the use of Delay-Doppler-based channel detection, estimation and prediction, as well as precoding software to improve 4G and 5G wireless systems with its Universal Spectrum Multiplier software.In 2020, Cohere Technologies won a GSMA GLOMO award for \"Best Network Software Breakthrough,\" and was also shortlisted for the award in 2023.In February 2023, Cohere announced a collaboration with telecommunications company Mavenir. Cohere will assist Mavenir in its transition to open RAN technology, including OTFS.Cohere co-announced the Multi-G O-RAN initiative in April 2023 in collaboration with Intel, Juniper Networks, Mavenir and VMware. The initiative will provide frameworks and interfaces to support the  coexistence of 4G, 5G, and other waveforms in the future. Carriers supporting the initiative include Vodafone, Telstra, and Bell Canada.Cohere currently holds more than 300 patents relating to 4G, 5G, and OTFS.Co-founder Shlomo Rakib currently serves as Cohere's CTO.\n",
      "\n",
      "\n",
      "== Products ==\n",
      "Announced in 2021, Cohere's  Universal Spectrum Multiplier (USM) software is designed to boost the performance of  4G and 5G FDD or TDD networks and can be integrated by network equipment suppliers in the radio access network (RAN) or as an xApp/RIC in the telco cloud. This technology has been tested by mobile operators such as Vodafone, Deutsche Telekom, and Telstra.Cohere also announced the  Dynamic Network Alignment (DNA) tool  in 2023, which is an automated MU-MIMO beamforming solution for calibrating 4G and 5G networks using existing network and spectrum assets.\n",
      "\n",
      "\n",
      "== References ==\u001b[0m\u001b[32;1m\u001b[1;3m\u001b[0m\n",
      "\n",
      "\u001b[1m> Finished chain.\u001b[0m\n"
     ]
    },
    {
     "data": {
      "text/plain": [
       "{'input': 'Who founded Cohere?',\n",
       " 'text': 'COHERE WAS FOUNDED BY AIDAN GOMEZ, IVAN ZHANG AND NICK FROSST.',\n",
       " 'additional_info': {'tool_calls': None,\n",
       "  'documents': [{'answer': 'Cohere is a Canadian multinational technology company focused on artificial intelligence for the enterprise, specializing in large language models. Cohere was founded in 2019 by Aidan Gomez, Ivan Zhang, and Nick Frosst, and is headquartered in Toronto and San Francisco, with offices in Palo Alto and London.\\n\\n\\n== History ==\\nIn 2017, a team of researchers at Google Brain, which included Aidan Gomez, published a paper called \"Attention is All You Need,\" which introduced the transformer machine learning architecture, setting state-of-the-art performance on a variety of natural language processing tasks. In 2019, Gomez and Nick Frosst, another researcher at Google Brain, founded Cohere along with Ivan Zhang, with whom Gomez had done research at FOR.ai. All of the co-founders attended University of Toronto.Gomez has been serving as the company\\'s CEO since its founding. On December 13, 2022, it was announced that Cohere had appointed former YouTube CFO Martin Kon as their new president and chief operating officer.In November 2021, Google Cloud announced that they would help power Cohere\\'s platform using their robust infrastructure, and Cloud\\'s TPUs would be used by Cohere for the development and deployment of their products.In June 2022, Cohere launched Cohere For AI, a nonprofit research lab and community dedicated to contributing open-source, fundamental machine learning research. It is led by Sara Hooker, a former research scientist at Google Brain.In December 2022, Cohere released a multilingual model for understanding text that would work with over 100 languages, to help users search for documents by meaning instead of with keywords. This type of process was not previously widely available in languages other than English.On June 13, 2023, Oracle announced a partnership with Cohere to provide generative AI services to help organizations automate end-to-end business processes. As a result, Cohere\\'s technology is integrated into Oracle\\'s business applications, including Oracle Fusion Cloud, Oracle NetSuite, and Oracle industry-specific applications. On July 18, 2023, McKinsey announced a collaboration with Cohere, to help organizations integrate generative AI into their operations. In 2023, Cohere collaborated with software company LivePerson to offer customized large language models for businesses.On September 12, 2023, it was announced that Cohere had become one of 15 tech companies to agree to voluntary White House measures on testing, reporting, and research on the risks of AI. On September 27, 2023, it was announced that Cohere had also signed Canada\\'s voluntary code of conduct for AI, to promote the responsible development and management of advanced generative AI systems.\\n\\n\\n== Products ==\\nConsidered an alternative to OpenAI, Cohere is focused on generative AI for the enterprise, building technology that businesses can use to deploy chatbots, search engines, copywriting, summarization, and other AI-driven products. Cohere specializes in large language models: AI trained to digest text from an enterprises\\' internal data or publicly available sources like the internet to understand how to process and respond to prompts with increasing sophistication.The Cohere platform is available through API as a managed service, through platforms such as Amazon SageMaker and Google\\'s Vertex AI. It can be used for tasks such as writing copy, moderating content, classifying data, and extracting information. It is cloud agnostic and not tied to a particular cloud service.Cohere\\'s generative AI technology is embedded into several Oracle products, and its chat capabilities are embedded into Salesforce products.\\n\\n\\n== Funding ==\\nOn September 7, 2021, Cohere announced that they had raised $40 million in Series A funding led by Index Ventures; Index Ventures partner Mike Volpi also joined Cohere\\'s board. The round also included Radical Ventures, Section 32, and AI-experts Geoffrey Hinton, Fei-Fei Li, Pieter Abbeel, and Raquel Urtasun.In February 2022,\\n\\nAidan Gomez is a British-Canadian computer scientist working in the field of artificial intelligence, with a focus on natural language processing. He is the co-founder and CEO of the technology company Cohere.\\n\\n\\n== Early life and education ==\\nGomez grew up in Brighton, Ontario. He graduated from the University of Toronto with a bachelor\\'s degree in computer science and mathematics. He is pursuing a PhD in computer science from the University of Oxford.\\n\\n\\n== Career ==\\nIn 2017, as a 20 year-old intern at Google Brain, Gomez was one of eight authors of the research paper \"Attention Is All You Need\", which is credited with changing the AI industry and helping lead to the creation of ChatGPT. The paper proposed a novel deep learning architecture called the transformer, that enables machine learning models to analyze large amounts of data for patterns, and then use those patterns to make predictions.  It has been commonly adopted for training large language models and in the development of generative AI. In 2017, Gomez founded FOR.ai, a program to help researchers learn machine learning techniques in a collaborative format, which later became Cohere For AI.As a PhD student, Gomez worked as a machine learning researcher at Google Brain. At that time, he co-authored the paper \"One Model to Learn Them All\" about multi-task learning by a single neural network.In 2019, Gomez left Google Brain to launch Cohere, an enterprise-focused company that helps businesses implement AI into chatbots, search engines, and other products. He is CEO of the company, which has been valued at over $2 billion.Gomez was named to the 2023 Time 100/AI list of the most influential people in the field of artificial intelligence. He and his fellow Cohere founders Ivan Zhang and Nick Frosst were named number 1 on 2023 Maclean\\'s AI Trailblazers Power List.\\n\\n\\n== References ==\\n\\nCohere Technologies is a telecoms software company based in San Jose, California that develops technology for boosting the network performance of 4G and 5G spectrum in wireless networks. Cohere holds the patents for the Orthogonal Time Frequency Space (OTFS) 2D modulation technique used to improve the performance of 4G and 5G networks and is being considered as a waveform for the future 6G wireless standard.\\n\\n\\n== History ==\\nCohere Technologies was founded in 2011 by Shlomo Rakib, a serial entrepreneur, and Ronny Hadani, an associate professor of mathematics at the University of Texas, Austin. The pair patented the OTFS waveform in 2010.Ray Dolan, co-founder of Flarion Technologies (acquired by Qualcomm in 2006), joined Cohere Technologies as the company\\'s chairman and CEO in October 2018.Cohere Technologies\\'  first trials of OFTS with a carrier took place at Telefónica in 2018.In 2018, the company changed its focus to the use of Delay-Doppler-based channel detection, estimation and prediction, as well as precoding software to improve 4G and 5G wireless systems with its Universal Spectrum Multiplier software.In 2020, Cohere Technologies won a GSMA GLOMO award for \"Best Network Software Breakthrough,\" and was also shortlisted for the award in 2023.In February 2023, Cohere announced a collaboration with telecommunications company Mavenir. Cohere will assist Mavenir in its transition to open RAN technology, including OTFS.Cohere co-announced the Multi-G O-RAN initiative in April 2023 in collaboration with Intel, Juniper Networks, Mavenir and VMware. The initiative will provide frameworks and interfaces to support the  coexistence of 4G, 5G, and other waveforms in the future. Carriers supporting the initiative include Vodafone, Telstra, and Bell Canada.Cohere currently holds more than 300 patents relating to 4G, 5G, and OTFS.Co-founder Shlomo Rakib currently serves as Cohere\\'s CTO.\\n\\n\\n== Products ==\\nAnnounced in 2021, Cohere\\'s  Universal Spectrum Multiplier (USM) software is designed to boost the performance of  4G and 5G FDD or TDD networks and can be integrated by network equipment suppliers in the radio access network (RAN) or as an xApp/RIC in the telco cloud. This technology has been tested by mobile operators such as Vodafone, Deutsche Telekom, and Telstra.Cohere also announced the  Dynamic Network Alignment (DNA) tool  in 2023, which is an automated MU-MIMO beamforming solution for calibrating 4G and 5G networks using existing network and spectrum assets.\\n\\n\\n== References ==',\n",
       "    'id': 'wikipedia:0:0'}],\n",
       "  'citations': [{'start': 22,\n",
       "    'end': 33,\n",
       "    'text': 'AIDAN GOMEZ',\n",
       "    'document_ids': ['wikipedia:0:0']},\n",
       "   {'start': 35,\n",
       "    'end': 45,\n",
       "    'text': 'IVAN ZHANG',\n",
       "    'document_ids': ['wikipedia:0:0']},\n",
       "   {'start': 50,\n",
       "    'end': 62,\n",
       "    'text': 'NICK FROSST.',\n",
       "    'document_ids': ['wikipedia:0:0']}],\n",
       "  'search_results': None,\n",
       "  'search_queries': None,\n",
       "  'is_search_required': None,\n",
       "  'token_count': {'prompt_tokens': 2505,\n",
       "   'response_tokens': 26,\n",
       "   'total_tokens': 2531,\n",
       "   'billed_tokens': 38},\n",
       "  'generation_id': 'd015d069-c718-41f0-8e84-647e23a7e07b'}}"
      ]
     },
     "execution_count": 4,
     "metadata": {},
     "output_type": "execute_result"
    }
   ],
   "source": [
    "agent = create_cohere_tools_agent(\n",
    "    llm=chat,\n",
    "    tools=[retriever_tool],\n",
    "    prompt=prompt,\n",
    ")\n",
    "agent_executor = AgentExecutor(agent=agent, tools=[retriever_tool], verbose=True)\n",
    "agent_executor.invoke({\"input\": \"Who founded Cohere?\"})"
   ]
  },
  {
   "cell_type": "code",
   "execution_count": null,
   "metadata": {},
   "outputs": [],
   "source": []
  }
 ],
 "metadata": {
  "kernelspec": {
   "display_name": "Python 3 (ipykernel)",
   "language": "python",
   "name": "python3"
  },
  "language_info": {
   "codemirror_mode": {
    "name": "ipython",
    "version": 3
   },
   "file_extension": ".py",
   "mimetype": "text/x-python",
   "name": "python",
   "nbconvert_exporter": "python",
   "pygments_lexer": "ipython3",
   "version": "3.11.7"
  }
 },
 "nbformat": 4,
 "nbformat_minor": 4
}
