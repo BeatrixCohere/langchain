{
 "cells": [
  {
   "cell_type": "code",
   "execution_count": 1,
   "metadata": {},
   "outputs": [
    {
     "name": "stdout",
     "output_type": "stream",
     "text": [
      "\n",
      "\n",
      "\u001b[1m> Entering new AgentExecutor chain...\u001b[0m\n",
      "\u001b[32;1m\u001b[1;3mwikipedia\u001b[0m\u001b[36;1m\u001b[1;3mWikipedia is a free-content online encyclopedia written and maintained by a community of volunteers, known as Wikipedians, through open collaboration and the use of the wiki-based editing system MediaWiki. Wikipedia is the largest and most-read reference work in history. It is consistently ranked as one of the ten most popular websites in the world, and as of 2024 is ranked the fifth most visited website on the Internet by Semrush. Founded by Jimmy Wales and Larry Sanger on January 15, 2001, Wikipedia is hosted by the Wikimedia Foundation, an American nonprofit organization that employs a staff of over 700 people.Initially only available in English, editions in other languages have been developed. Wikipedia's editions, when combined, comprise more than 62 million articles, attracting around 2 billion unique device visits per month and more than 14 million edits per month (about 5.2 edits per second on average)  as of November 2023. Roughly 26% of Wikipedia's traffic is from the United States, followed by Japan at 5.9%, the United Kingdom at 5.4%, Germany at 5%, Russia at 4.8%, and the remaining 54% split among other countries, according to data provided by Similarweb.Wikipedia has been praised for its enablement of the democratization of knowledge, extent of coverage, unique structure, and culture. It has been criticized for exhibiting systemic bias, particularly gender bias against women and geographical bias against the Global South (Eurocentrism). While the reliability of Wikipedia was frequently criticized in the 2000s, it has improved over time, receiving greater praise in the late 2010s and early 2020s, having become an important fact-checking site.Wikipedia has been censored by some national governments, ranging from specific pages to the entire site. Articles on breaking news are often accessed as sources for frequently updated information about those events.\n",
      "\n",
      "\n",
      "== History ==\n",
      "\n",
      "\n",
      "=== Nupedia ===\n",
      "\n",
      "Various collaborative online encyclopedias were attempted before the start of Wikipedia, but with limited success. Wikipedia began as a complementary project for Nupedia, a free online English-language encyclopedia project whose articles were written by experts and reviewed under a formal process. It was founded on March 9, 2000, under the ownership of Bomis, a web portal company. Its main figures were Bomis CEO Jimmy Wales and Larry Sanger, editor-in-chief for Nupedia and later Wikipedia. Nupedia was initially licensed under its own Nupedia Open Content License, but before Wikipedia was founded, Nupedia switched to the GNU Free Documentation License at the urging of Richard Stallman. Wales is credited with defining the goal of making a publicly editable encyclopedia, while Sanger is credited with the strategy of using a wiki to reach that goal. On January 10, 2001, Sanger proposed on the Nupedia mailing list to create a wiki as a \"feeder\" project for Nupedia.\n",
      "\n",
      "\n",
      "=== Launch and growth ===\n",
      "The domains wikipedia.org and wikipedia.com (later redirecting to wikipedia.org) were registered on January 13, 2001, and January 12, 2001, respectively. Wikipedia was launched on January 15, 2001 as a single English-language edition at www.wikipedia.com, and was announced by Sanger on the Nupedia mailing list. The name originated from a blend of the words wiki and encyclopedia. Its integral policy of \"neutral point-of-view\" was codified in its first few months. Otherwise, there were initially relatively few rules, and it operated independently of Nupedia. Bomis originally intended for it to be a for-profit business.\n",
      "Wikipedia gained early contributors from Nupedia, Slashdot postings, and web search engine indexing. Language editions were created beginning in March 2001, with a total of 161 in use by the end of 2004. Nupedia and Wikipedia coexisted until the former's servers were taken down permanently in 2003, and its text was incorporated into Wikipedia. The English Wikipedia passed the mark of two million articles on September 9, 2007, making \n",
      "\n",
      "The English Wikipedia is the primary English-language edition of Wikipedia, an online encyclopedia. It was created by Jimmy Wales and Larry Sanger on January 15, 2001, as Wikipedia's first edition.\n",
      "English Wikipedia is hosted alongside other language editions by the Wikimedia Foundation, an American nonprofit organization. Its content is written independently of other editions in various varieties of English, aiming to stay consistent within articles. Its internal newspaper is The Signpost.\n",
      "English Wikipedia is the most-read version of Wikipedia, accounting for 48% of Wikipedia's cumulative traffic, with the remaining percentage split among the other languages. The English Wikipedia has the most articles of any edition, at 6,795,497 as of March 2024. It contains 10.8% of articles in all Wikipedias, although it lacks millions of articles found in other editions. The edition's one-billionth edit was made on January 13, 2021.English Wikipedia, often as a stand-in for Wikipedia overall, has been praised for its enablement of the democratization of knowledge, extent of coverage, unique structure, culture, and reduced degree of commercial bias. It has been criticized for exhibiting systemic bias, particularly gender bias against women and ideological bias. While its reliability was frequently criticized in the 2000s, it has improved over time, receiving greater praise in the late 2010s and early 2020s, having become an important fact-checking site. English Wikipedia has been characterized as having less cultural bias than other language editions due to its broader editor base.\n",
      "\n",
      "\n",
      "== Articles ==\n",
      "Editors of the English Wikipedia have pioneered some ideas as conventions, policies or features which were later adopted by Wikipedia editions in some of the other languages. These ideas include \"featured articles\", the neutral-point-of-view policy, navigation templates, the sorting of short \"stub\" articles into sub-categories, dispute resolution mechanisms such as mediation and arbitration, and weekly collaborations.It surpassed six million articles on 23 January 2020. In November 2022, the total volume of the compressed texts of its articles amounted to 20 gigabytes.The edition's one-billionth edit was made on 13 January 2021 by Ser Amantio di Nicolao (Steven Pruitt) who as of that date is the user with the highest number of edits on the English Wikipedia, at over four million. Currently, there are 6,795,497 articles created with 914,376 files. The encyclopedia is home to 10.8% of articles in all Wikipedias (down from more than 50% in 2003). The English Wikipedia currently has 47,077,243 registered accounts of which 864 are administrators.\n",
      "\n",
      "\n",
      "== Wikipedians ==\n",
      "The English Wikipedia reached 4,000,000 registered user accounts on 1 April 2007, over a year since the millionth Wikipedian registered an account in February 2006.Over 1,100,000 editors have edited Wikipedia more than 10 times. Over 30,000 editors perform more than 5 edits per month, and over 3,000 perform more than 100 edits per month.On March 1, 2014, The Economist, in an article titled \"The Future of Wikipedia\", cited a trend analysis concerning data published by the Wikimedia Foundation stating that \"[t]he number of editors for the English-language version has fallen by a third in seven years.\" The attrition rate for active editors in English Wikipedia was cited by The Economist as substantially in contrast to statistics for Wikipedia in other languages (non-English Wikipedia). The Economist reported that the number of contributors with an average of five or more edits per month was relatively constant since 2008 for Wikipedia in other languages at approximately 42,000 editors within narrow seasonal variances of about 2,000 editors up or down. The number of active editors in English Wikipedia, by \"sharp\" comparison, was cited as peaking in 2007 at approximately 50,000 and dropping to 30,000 by the start of 2014.\n",
      "The trend analysis published in The Economist presents Wikipedia in ot\n",
      "\n",
      "The Wikipedia community, collectively and individually known as Wikipedians, is an online community of volunteers who create and maintain Wikipedia, an online encyclopedia. Since August 2012, the word \"Wikipedian\" has been an Oxford Dictionary entry.Wikipedians may consider themselves part of the Wikimedia movement, a global network of volunteer contributors to Wikipedia and other related projects hosted by the Wikimedia Foundation.\n",
      "\n",
      "\n",
      "== Demographics ==\n",
      "In April 2008, writer and lecturer Clay Shirky and computer scientist Martin Wattenberg estimated the total time spent creating Wikipedia at roughly 100 million hours. As of August 2023, there are approximately 109 million registered user accounts across all language editions, of which around 280,000 are \"active\" (i.e., made at least one edit in the last thirty days).\n",
      "A study published in 2010 found that the contributor base to Wikipedia \"was barely 13% women; the average age of a contributor was in the mid-20s\". A 2011 study by researchers from the University of Minnesota found that females comprised 16.1% of the 38,497 editors who started editing Wikipedia during 2009. In a January 2011 New York Times article, Noam Cohen observed that 13% of Wikipedia's contributors are female according to a 2008 Wikimedia Foundation survey. Sue Gardner, a former executive director of the Wikimedia Foundation, hoped to see female contributions increase to 25% by 2015. Linda Basch, president of the National Council for Research on Women, noted the contrast in these Wikipedia editor statistics with the percentage of women currently completing bachelor's degrees, master's degrees and PhD programs in the United States (all at rates of 50% or greater).In response, various universities have hosted edit-a-thons to encourage more women to participate in the Wikipedia community. In fall 2013, 15 colleges and universities—including Yale, Brown, and Penn State—offered college credit for students to \"write feminist thinking\" about technology into Wikipedia. A 2008 self-selected survey of the diversity of contributors by highest educational degree indicated that 62% of responding Wikipedia editors had attained either a high school or undergraduate college education.In August 2014, Wikipedia co-founder Jimmy Wales said in a BBC interview that the Wikimedia Foundation was \"... really doubling down our efforts ...\" to reach 25% of female editors (originally targeted by 2015), since the Foundation had \"totally failed\" so far. Wales said \"a lot of things need to happen ... a lot of outreach, a lot of software changes\". Andrew Lih, writing in The New York Times, was quoted by Bloomberg News in December 2016 as supporting Wales's comments concerning shortfalls in Wikipedia's outreach to female editors. Lih states his concern with the question indicating that: \"How can you get people to participate in an [editing] environment that feels unsafe, where identifying yourself as a woman, as a feminist, could open you up to ugly, intimidating behavior\".In October 2023, a representative survey of 1,000 adults in the U.S. by YouGov found that 7% had ever edited Wikipedia, that 20% had ever considered doing so who had not, that 55% had never done so and had never considered doing so, and that 17% had never used Wikipedia.\n",
      "\n",
      "\n",
      "== Motivation ==\n",
      "\n",
      "In a 2003 study of Wikipedia as a community, economics Ph.D. student Andrea Ciffolilli argued that the low transaction costs of participating in wiki software create a catalyst for collaborative development, and that a \"creative construction\" approach encourages participation. A paper written by Andrea Forte and Amy Bruckman in 2005, called \"Why Do People Write for Wikipedia? Incentives to Contribute to Open-Content Publishing\", discussed the possible motivations of Wikipedia contributors. It applied Latour and Woolgar's concept of the cycle of credit to Wikipedia contributors, suggesting that the reason that people write for Wikipedia is to gain recognition within the community.Oded \u001b[0m\u001b[32;1m\u001b[1;3m\u001b[0m\n",
      "\n",
      "\u001b[1m> Finished chain.\u001b[0m\n"
     ]
    },
    {
     "data": {
      "text/plain": [
       "{'input': 'Who founded wikipedia',\n",
       " 'text': 'JIMMY WALES AND LARRY SANGER ARE THE FOUNDER OF WIKIPEDIA.',\n",
       " 'additional_info': {'tool_calls': None,\n",
       "  'documents': [{'answer': 'Wikipedia is a free-content online encyclopedia written and maintained by a community of volunteers, known as Wikipedians, through open collaboration and the use of the wiki-based editing system MediaWiki. Wikipedia is the largest and most-read reference work in history. It is consistently ranked as one of the ten most popular websites in the world, and as of 2024 is ranked the fifth most visited website on the Internet by Semrush. Founded by Jimmy Wales and Larry Sanger on January 15, 2001, Wikipedia is hosted by the Wikimedia Foundation, an American nonprofit organization that employs a staff of over 700 people.Initially only available in English, editions in other languages have been developed. Wikipedia\\'s editions, when combined, comprise more than 62 million articles, attracting around 2 billion unique device visits per month and more than 14 million edits per month (about 5.2 edits per second on average)  as of November 2023. Roughly 26% of Wikipedia\\'s traffic is from the United States, followed by Japan at 5.9%, the United Kingdom at 5.4%, Germany at 5%, Russia at 4.8%, and the remaining 54% split among other countries, according to data provided by Similarweb.Wikipedia has been praised for its enablement of the democratization of knowledge, extent of coverage, unique structure, and culture. It has been criticized for exhibiting systemic bias, particularly gender bias against women and geographical bias against the Global South (Eurocentrism). While the reliability of Wikipedia was frequently criticized in the 2000s, it has improved over time, receiving greater praise in the late 2010s and early 2020s, having become an important fact-checking site.Wikipedia has been censored by some national governments, ranging from specific pages to the entire site. Articles on breaking news are often accessed as sources for frequently updated information about those events.\\n\\n\\n== History ==\\n\\n\\n=== Nupedia ===\\n\\nVarious collaborative online encyclopedias were attempted before the start of Wikipedia, but with limited success. Wikipedia began as a complementary project for Nupedia, a free online English-language encyclopedia project whose articles were written by experts and reviewed under a formal process. It was founded on March 9, 2000, under the ownership of Bomis, a web portal company. Its main figures were Bomis CEO Jimmy Wales and Larry Sanger, editor-in-chief for Nupedia and later Wikipedia. Nupedia was initially licensed under its own Nupedia Open Content License, but before Wikipedia was founded, Nupedia switched to the GNU Free Documentation License at the urging of Richard Stallman. Wales is credited with defining the goal of making a publicly editable encyclopedia, while Sanger is credited with the strategy of using a wiki to reach that goal. On January 10, 2001, Sanger proposed on the Nupedia mailing list to create a wiki as a \"feeder\" project for Nupedia.\\n\\n\\n=== Launch and growth ===\\nThe domains wikipedia.org and wikipedia.com (later redirecting to wikipedia.org) were registered on January 13, 2001, and January 12, 2001, respectively. Wikipedia was launched on January 15, 2001 as a single English-language edition at www.wikipedia.com, and was announced by Sanger on the Nupedia mailing list. The name originated from a blend of the words wiki and encyclopedia. Its integral policy of \"neutral point-of-view\" was codified in its first few months. Otherwise, there were initially relatively few rules, and it operated independently of Nupedia. Bomis originally intended for it to be a for-profit business.\\nWikipedia gained early contributors from Nupedia, Slashdot postings, and web search engine indexing. Language editions were created beginning in March 2001, with a total of 161 in use by the end of 2004. Nupedia and Wikipedia coexisted until the former\\'s servers were taken down permanently in 2003, and its text was incorporated into Wikipedia. The English Wikipedia passed the mark of two million articles on September 9, 2007, making \\n\\nThe English Wikipedia is the primary English-language edition of Wikipedia, an online encyclopedia. It was created by Jimmy Wales and Larry Sanger on January 15, 2001, as Wikipedia\\'s first edition.\\nEnglish Wikipedia is hosted alongside other language editions by the Wikimedia Foundation, an American nonprofit organization. Its content is written independently of other editions in various varieties of English, aiming to stay consistent within articles. Its internal newspaper is The Signpost.\\nEnglish Wikipedia is the most-read version of Wikipedia, accounting for 48% of Wikipedia\\'s cumulative traffic, with the remaining percentage split among the other languages. The English Wikipedia has the most articles of any edition, at 6,795,497 as of March 2024. It contains 10.8% of articles in all Wikipedias, although it lacks millions of articles found in other editions. The edition\\'s one-billionth edit was made on January 13, 2021.English Wikipedia, often as a stand-in for Wikipedia overall, has been praised for its enablement of the democratization of knowledge, extent of coverage, unique structure, culture, and reduced degree of commercial bias. It has been criticized for exhibiting systemic bias, particularly gender bias against women and ideological bias. While its reliability was frequently criticized in the 2000s, it has improved over time, receiving greater praise in the late 2010s and early 2020s, having become an important fact-checking site. English Wikipedia has been characterized as having less cultural bias than other language editions due to its broader editor base.\\n\\n\\n== Articles ==\\nEditors of the English Wikipedia have pioneered some ideas as conventions, policies or features which were later adopted by Wikipedia editions in some of the other languages. These ideas include \"featured articles\", the neutral-point-of-view policy, navigation templates, the sorting of short \"stub\" articles into sub-categories, dispute resolution mechanisms such as mediation and arbitration, and weekly collaborations.It surpassed six million articles on 23 January 2020. In November 2022, the total volume of the compressed texts of its articles amounted to 20 gigabytes.The edition\\'s one-billionth edit was made on 13 January 2021 by Ser Amantio di Nicolao (Steven Pruitt) who as of that date is the user with the highest number of edits on the English Wikipedia, at over four million. Currently, there are 6,795,497 articles created with 914,376 files. The encyclopedia is home to 10.8% of articles in all Wikipedias (down from more than 50% in 2003). The English Wikipedia currently has 47,077,243 registered accounts of which 864 are administrators.\\n\\n\\n== Wikipedians ==\\nThe English Wikipedia reached 4,000,000 registered user accounts on 1 April 2007, over a year since the millionth Wikipedian registered an account in February 2006.Over 1,100,000 editors have edited Wikipedia more than 10 times. Over 30,000 editors perform more than 5 edits per month, and over 3,000 perform more than 100 edits per month.On March 1, 2014, The Economist, in an article titled \"The Future of Wikipedia\", cited a trend analysis concerning data published by the Wikimedia Foundation stating that \"[t]he number of editors for the English-language version has fallen by a third in seven years.\" The attrition rate for active editors in English Wikipedia was cited by The Economist as substantially in contrast to statistics for Wikipedia in other languages (non-English Wikipedia). The Economist reported that the number of contributors with an average of five or more edits per month was relatively constant since 2008 for Wikipedia in other languages at approximately 42,000 editors within narrow seasonal variances of about 2,000 editors up or down. The number of active editors in English Wikipedia, by \"sharp\" comparison, was cited as peaking in 2007 at approximately 50,000 and dropping to 30,000 by the start of 2014.\\nThe trend analysis published in The Economist presents Wikipedia in ot\\n\\nThe Wikipedia community, collectively and individually known as Wikipedians, is an online community of volunteers who create and maintain Wikipedia, an online encyclopedia. Since August 2012, the word \"Wikipedian\" has been an Oxford Dictionary entry.Wikipedians may consider themselves part of the Wikimedia movement, a global network of volunteer contributors to Wikipedia and other related projects hosted by the Wikimedia Foundation.\\n\\n\\n== Demographics ==\\nIn April 2008, writer and lecturer Clay Shirky and computer scientist Martin Wattenberg estimated the total time spent creating Wikipedia at roughly 100 million hours. As of August 2023, there are approximately 109 million registered user accounts across all language editions, of which around 280,000 are \"active\" (i.e., made at least one edit in the last thirty days).\\nA study published in 2010 found that the contributor base to Wikipedia \"was barely 13% women; the average age of a contributor was in the mid-20s\". A 2011 study by researchers from the University of Minnesota found that females comprised 16.1% of the 38,497 editors who started editing Wikipedia during 2009. In a January 2011 New York Times article, Noam Cohen observed that 13% of Wikipedia\\'s contributors are female according to a 2008 Wikimedia Foundation survey. Sue Gardner, a former executive director of the Wikimedia Foundation, hoped to see female contributions increase to 25% by 2015. Linda Basch, president of the National Council for Research on Women, noted the contrast in these Wikipedia editor statistics with the percentage of women currently completing bachelor\\'s degrees, master\\'s degrees and PhD programs in the United States (all at rates of 50% or greater).In response, various universities have hosted edit-a-thons to encourage more women to participate in the Wikipedia community. In fall 2013, 15 colleges and universities—including Yale, Brown, and Penn State—offered college credit for students to \"write feminist thinking\" about technology into Wikipedia. A 2008 self-selected survey of the diversity of contributors by highest educational degree indicated that 62% of responding Wikipedia editors had attained either a high school or undergraduate college education.In August 2014, Wikipedia co-founder Jimmy Wales said in a BBC interview that the Wikimedia Foundation was \"... really doubling down our efforts ...\" to reach 25% of female editors (originally targeted by 2015), since the Foundation had \"totally failed\" so far. Wales said \"a lot of things need to happen ... a lot of outreach, a lot of software changes\". Andrew Lih, writing in The New York Times, was quoted by Bloomberg News in December 2016 as supporting Wales\\'s comments concerning shortfalls in Wikipedia\\'s outreach to female editors. Lih states his concern with the question indicating that: \"How can you get people to participate in an [editing] environment that feels unsafe, where identifying yourself as a woman, as a feminist, could open you up to ugly, intimidating behavior\".In October 2023, a representative survey of 1,000 adults in the U.S. by YouGov found that 7% had ever edited Wikipedia, that 20% had ever considered doing so who had not, that 55% had never done so and had never considered doing so, and that 17% had never used Wikipedia.\\n\\n\\n== Motivation ==\\n\\nIn a 2003 study of Wikipedia as a community, economics Ph.D. student Andrea Ciffolilli argued that the low transaction costs of participating in wiki software create a catalyst for collaborative development, and that a \"creative construction\" approach encourages participation. A paper written by Andrea Forte and Amy Bruckman in 2005, called \"Why Do People Write for Wikipedia? Incentives to Contribute to Open-Content Publishing\", discussed the possible motivations of Wikipedia contributors. It applied Latour and Woolgar\\'s concept of the cycle of credit to Wikipedia contributors, suggesting that the reason that people write for Wikipedia is to gain recognition within the community.Oded ',\n",
       "    'id': 'wikipedia:0:0'}],\n",
       "  'citations': [{'start': 0,\n",
       "    'end': 58,\n",
       "    'text': 'JIMMY WALES AND LARRY SANGER ARE THE FOUNDER OF WIKIPEDIA.',\n",
       "    'document_ids': ['wikipedia:0:0']}],\n",
       "  'search_results': None,\n",
       "  'search_queries': None,\n",
       "  'is_search_required': None,\n",
       "  'token_count': {'prompt_tokens': 3338,\n",
       "   'response_tokens': 21,\n",
       "   'total_tokens': 3359,\n",
       "   'billed_tokens': 32},\n",
       "  'generation_id': 'e4fedf80-eb87-444a-b9c9-fbc86bf27fe7'}}"
      ]
     },
     "execution_count": 1,
     "metadata": {},
     "output_type": "execute_result"
    }
   ],
   "source": [
    "from langchain_community.chat_models import ChatCohere\n",
    "from langchain.agents import create_cohere_tools_agent\n",
    "from langchain.tools.retriever import create_retriever_tool\n",
    "from langchain.retrievers import WikipediaRetriever\n",
    "from langchain_core.prompts import ChatPromptTemplate\n",
    "from langchain.agents import AgentExecutor\n",
    "\n",
    "prompt = ChatPromptTemplate.from_template(\"Write all output in capital letters. {input}\")\n",
    "\n",
    "chat = ChatCohere(\n",
    "    cohere_api_key=\"API_KEY\",\n",
    "    model=\"command-nightly\"\n",
    ")\n",
    "\n",
    "retriever = WikipediaRetriever()\n",
    "retriever_tool = create_retriever_tool(\n",
    "    retriever,\n",
    "    \"wikipedia\",\n",
    "    \"Search for information on Wikipedia\",\n",
    ")\n",
    "agent = create_cohere_tools_agent(\n",
    "    llm=chat,\n",
    "    tools=[retriever_tool],\n",
    "    prompt=prompt,\n",
    ")\n",
    "agent_executor = AgentExecutor(agent=agent, tools=[retriever_tool], verbose=True)\n",
    "agent_executor.invoke({\"input\": \"Who founded wikipedia\"})"
   ]
  },
  {
   "cell_type": "markdown",
   "metadata": {},
   "source": [
    "###### !pip install langchainhub"
   ]
  },
  {
   "cell_type": "code",
   "execution_count": null,
   "metadata": {},
   "outputs": [],
   "source": [
    "!pip install cohere"
   ]
  },
  {
   "cell_type": "code",
   "execution_count": null,
   "metadata": {},
   "outputs": [],
   "source": [
    "!pip install wikipedia"
   ]
  },
  {
   "cell_type": "code",
   "execution_count": null,
   "metadata": {},
   "outputs": [],
   "source": []
  }
 ],
 "metadata": {
  "kernelspec": {
   "display_name": "Python 3 (ipykernel)",
   "language": "python",
   "name": "python3"
  },
  "language_info": {
   "codemirror_mode": {
    "name": "ipython",
    "version": 3
   },
   "file_extension": ".py",
   "mimetype": "text/x-python",
   "name": "python",
   "nbconvert_exporter": "python",
   "pygments_lexer": "ipython3",
   "version": "3.11.7"
  }
 },
 "nbformat": 4,
 "nbformat_minor": 4
}
