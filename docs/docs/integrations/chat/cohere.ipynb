{
 "cells": [
  {
   "cell_type": "raw",
   "id": "53fbf15f",
   "metadata": {},
   "source": [
    "---\n",
    "sidebar_label: Cohere\n",
    "---"
   ]
  },
  {
   "cell_type": "markdown",
   "id": "bf733a38-db84-4363-89e2-de6735c37230",
   "metadata": {},
   "source": [
    "# Cohere\n",
    "\n",
    "This notebook covers how to get started with [Cohere chat models](https://cohere.com/chat).\n",
    "\n",
    "Head to the [API reference](https://api.python.langchain.com/en/latest/chat_models/langchain_community.chat_models.cohere.ChatCohere.html) for detailed documentation of all attributes and methods."
   ]
  },
  {
   "cell_type": "markdown",
   "id": "3607d67e-e56c-4102-bbba-df2edc0e109e",
   "metadata": {},
   "source": [
    "## Setup\n",
    "\n",
    "The integration lives in the `langchain-community` package. We also need to install the `cohere` package itself. We can install these with:\n",
    "\n",
    "```bash\n",
    "pip install -U langchain-community cohere\n",
    "```\n",
    "\n",
    "We'll also need to get a [Cohere API key](https://cohere.com/) and set the `COHERE_API_KEY` environment variable:"
   ]
  },
  {
   "cell_type": "code",
   "execution_count": 1,
   "id": "2108b517-1e8d-473d-92fa-4f930e8072a7",
   "metadata": {},
   "outputs": [],
   "source": [
    "import getpass\n",
    "import os\n",
    "\n",
    "os.environ[\"COHERE_API_KEY\"] = getpass.getpass()"
   ]
  },
  {
   "cell_type": "markdown",
   "id": "cf690fbb",
   "metadata": {},
   "source": [
    "It's also helpful (but not needed) to set up [LangSmith](https://smith.langchain.com/) for best-in-class observability"
   ]
  },
  {
   "cell_type": "code",
   "execution_count": null,
   "id": "7f11de02",
   "metadata": {},
   "outputs": [],
   "source": [
    "# os.environ[\"LANGCHAIN_TRACING_V2\"] = \"true\"\n",
    "# os.environ[\"LANGCHAIN_API_KEY\"] = getpass.getpass()"
   ]
  },
  {
   "cell_type": "markdown",
   "id": "4c26754b-b3c9-4d93-8f36-43049bd943bf",
   "metadata": {},
   "source": [
    "## Usage\n",
    "\n",
    "ChatCohere supports all [ChatModel](/docs/modules/model_io/chat/) functionality:"
   ]
  },
  {
   "cell_type": "code",
   "execution_count": 2,
   "id": "d4a7c55d-b235-4ca4-a579-c90cc9570da9",
   "metadata": {
    "tags": []
   },
   "outputs": [],
   "source": [
    "from langchain_community.chat_models import ChatCohere\n",
    "from langchain_core.messages import HumanMessage"
   ]
  },
  {
   "cell_type": "code",
   "execution_count": 8,
   "id": "70cf04e8-423a-4ff6-8b09-f11fb711c817",
   "metadata": {
    "tags": []
   },
   "outputs": [],
   "source": [
    "chat = ChatCohere()"
   ]
  },
  {
   "cell_type": "code",
   "execution_count": null,
   "id": "8199ef8f-eb8b-4253-9ea0-6c24a013ca4c",
   "metadata": {
    "tags": []
   },
   "outputs": [],
   "source": [
    "messages = [HumanMessage(content=\"knock knock\")]\n",
    "chat.invoke(messages)"
   ]
  },
  {
   "cell_type": "code",
   "execution_count": null,
   "id": "c5fac0e9-05a4-4fc1-a3b3-e5bbb24b971b",
   "metadata": {
    "tags": []
   },
   "outputs": [],
   "source": [
    "await chat.ainvoke(messages)"
   ]
  },
  {
   "cell_type": "code",
   "execution_count": null,
   "id": "025be980-e50d-4a68-93dc-c9c7b500ce34",
   "metadata": {
    "tags": []
   },
   "outputs": [],
   "source": [
    "for chunk in chat.stream(messages):\n",
    "    print(chunk.content, end=\"\", flush=True)"
   ]
  },
  {
   "cell_type": "code",
   "execution_count": null,
   "id": "064288e4-f184-4496-9427-bcf148fa055e",
   "metadata": {},
   "outputs": [],
   "source": [
    "chat.batch([messages])"
   ]
  },
  {
   "cell_type": "markdown",
   "id": "f1c56460",
   "metadata": {},
   "source": [
    "## Chaining\n",
    "\n",
    "You can also easily combine with a prompt template for easy structuring of user input. We can do this using [LCEL](/docs/expression_language)"
   ]
  },
  {
   "cell_type": "code",
   "execution_count": null,
   "id": "0851b103",
   "metadata": {},
   "outputs": [],
   "source": [
    "from langchain_core.prompts import ChatPromptTemplate\n",
    "\n",
    "prompt = ChatPromptTemplate.from_template(\"Tell me a joke about {topic}\")\n",
    "chain = prompt | chat"
   ]
  },
  {
   "cell_type": "code",
   "execution_count": null,
   "id": "ae950c0f-1691-47f1-b609-273033cae707",
   "metadata": {},
   "outputs": [],
   "source": [
    "chain.invoke({\"topic\": \"bears\"})"
   ]
  },
  {
   "cell_type": "markdown",
   "id": "4c9e5d0c",
   "metadata": {},
   "source": [
    "## Search Queries\n",
    "\n",
    "To generate search queries for retrievers use search_queries_only"
   ]
  },
  {
   "cell_type": "code",
   "execution_count": 11,
   "id": "dc20fb74",
   "metadata": {},
   "outputs": [
    {
     "name": "stdout",
     "output_type": "stream",
     "text": [
      "[{'text': 'highest and lowest point on earth?', 'generation_id': 'dc1ca1ae-0724-4af3-9570-ee42e063c177'}]\n"
     ]
    }
   ],
   "source": [
    "messages = [HumanMessage(content=\"What is the highest point and lowest point on earth?\")]\n",
    "res = chat.invoke(messages, search_queries_only=True)\n",
    "print(res.additional_kwargs[\"search_queries\"])"
   ]
  },
  {
   "cell_type": "markdown",
   "id": "9f0b09d6",
   "metadata": {},
   "source": [
    "## Perform RAG\n",
    "\n",
    "To perform RAG generate search queries, fetch the documents using a retriever "
   ]
  },
  {
   "cell_type": "code",
   "execution_count": 17,
   "id": "04f99fd6",
   "metadata": {},
   "outputs": [
    {
     "name": "stdout",
     "output_type": "stream",
     "text": [
      "The highest point on Earth is Mount Everest, which sits at 8,848 meters (29,029 feet) above sea level. The lowest point is the Mariana Trench, which is 10,920 meters (35,798 feet) below sea level. \n",
      "\n",
      "For countries, Lesotho has the highest low point at 1,400 meters (4,593 feet). Countries with very low high points include Maldives at 5 meters (16 feet), Tuvalu, and the Marshall Islands at 10 meters (33 feet).\n",
      "[{'start': 30, 'end': 43, 'text': 'Mount Everest', 'document_ids': ['doc-1']}, {'start': 59, 'end': 85, 'text': '8,848 meters (29,029 feet)', 'document_ids': ['doc-1']}, {'start': 127, 'end': 141, 'text': 'Mariana Trench', 'document_ids': ['doc-1']}, {'start': 152, 'end': 179, 'text': '10,920 meters (35,798 feet)', 'document_ids': ['doc-1']}, {'start': 214, 'end': 221, 'text': 'Lesotho', 'document_ids': ['doc-0']}, {'start': 230, 'end': 276, 'text': 'highest low point at 1,400 meters (4,593 feet)', 'document_ids': ['doc-0']}, {'start': 322, 'end': 409, 'text': 'Maldives at 5 meters (16 feet), Tuvalu, and the Marshall Islands at 10 meters (33 feet)', 'document_ids': ['doc-0']}]\n",
      "{'id': 'doc-1', 'snippet': 'This article lists extreme locations on Earth that hold geographical records or are otherwise known for their geophysical or meteorological superlatives. All of these locations are Earth-wide extremes; extremes of individual continents or countries are not listed.\\n\\n\\n== Latitude and longitude ==\\n\\n\\n=== Northernmost ===\\nThe northernmost point of land is the northern tip of Kaffeklubben Island, north of Greenland (83°40′N 29°50′W), which lies slightly north of Cape Morris Jesup, Greenland (83°38′N 32°40′W). Various shifting gravel bars lie farther north, the most famous being Oodaaq. There have been other islands more northern such as 83-42 and ATOW1996 but they have not been confirmed as permanent.\\n\\n\\n=== Southernmost ===\\nThe southernmost continental point of land outside Antarctica is in South America at Cape Froward, Magallanes Region, Chile (53°56′00″S 071°20′00″W).\\nThe southernmost point of (liquid) water is a bay on the Filchner–Ronne Ice Shelf along the coast of Antarctica (83°S 59°W), about 100 km (62 mi) south of Berkner Island.\\nThe southernmost point of ocean is located on the Gould Coast (84°30′S 150°0′W).\\nThe southernmost point of open ocean is in the Bay of Whales, also part of the Ross Sea, at 78°30\\'S, at the edge of the Ross Ice Shelf.\\nThe southernmost island is considered to be Deverall Island, near the Shackleton Coast, surrounded by the Ross Ice Shelf although there is an island in Lake Vostok but it is currently under ice. \\n\\n\\n=== Easternmost and westernmost ===\\nThe easternmost and westernmost points on Earth, based on the east–west standard for describing longitude, can be found anywhere along the 180th meridian, which passes through the Arctic, Pacific, and Southern Oceans, as well as parts of Siberia (including Wrangel Island), Antarctica, and three islands of Fiji (Vanua Levu\\'s eastern peninsula, the middle of Taveuni, and the western part of Rabi Island).\\nUsing instead the path of the International Date Line (which is not a straight line), the westernmost point on land is Attu Island, Alaska, and the easternmost point on land is Caroline Island, Kiribati.\\n\\n\\n=== Longest grid lines ===\\n\\n\\n==== Along constant latitude ====\\nThe longest continuous east–west distance on land is 10,726 km (6,665 mi) along the latitude 48°24\\'53\"N, from the west coast of France (Pointe de Corsen, 48°24′53″N 4°47′44″W) through Central Europe, Ukraine, Russia, Kazakhstan, Mongolia and China, to a point on the east coast of Russia (48°24′53″N 140°6′3″E).\\nThe longest continuous east–west distance at sea is 22,471 km (13,963 mi) along the latitude 55°59\\'S, south of Cape Horn, South America.\\nThe longest continuous east–west distance at sea between two continents is 15,409 km (9,575 mi) along the latitude 18°39\\'12\"N, from the coast of Hainan, China (18°39′12″N 110°15′9″E) across the Pacific Ocean to the coast of Michoacán, Mexico (18°39′12″N 103°42′6″W).\\n\\n\\n==== Along constant longitude ====\\nThe longest continuous north–south distance on land is 7,590 km (4,720 mi) along the meridian 99°1\\'30\"E, from the northern tip of Siberia in the Russian Federation (76°13′6″N 99°1′30″E), through Mongolia, China, and Myanmar, to a point on the south coast of Thailand (7°53′24″N 99°1′30″E).\\nThe longest in Africa is 7,417 km (4,609 mi) along the meridian 20°12\\'E, from the north coast of Libya (32°19′0″N 20°12′0″E), through Chad, Central African Republic, Democratic Republic of the Congo, Angola, Namibia, and Botswana, to the south coast of South Africa (34°41′30″S 20°12′0″E).\\nThe longest in South America is the length 7,098 km (4,410 mi) along the meridian 70°2\\'W, from the north coast of Venezuela (11°30′30″N 70°2′0″W), through Colombia, Ecuador, Peru, and Chile, to the southern tip of Argentina (52°33′30″S 70°2′0″W).\\nThe longest in North America is 5,813 km (3,612 mi) along the meridian 97°52\\'30\"W, from northern Canada (68°21′0″N 97°52′30″W), through the United States, to southern Mexico (16°1′0″N 97°52′30″W).\\nThe longest continuous north–south distance at s'}\n",
      "\n",
      "\n",
      "This article lists extreme locations on Earth that hold geographical records or are otherwise known for their geophysical or meteorological superlatives. All of these locations are Earth-wide extremes; extremes of individual continents or countries are not listed.\n",
      "\n",
      "\n",
      "== Latitude and longitude ==\n",
      "\n",
      "\n",
      "=== Northernmost ===\n",
      "The northernmost point of land is the northern tip of Kaffeklubben Island, north of Greenland (83°40′N 29°50′W), which lies slightly north of Cape Morris Jesup, Greenland (83°38′N 32°40′W). Various shifting gravel bars lie farther north, the most famous being Oodaaq. There have been other islands more northern such as 83-42 and ATOW1996 but they have not been confirmed as permanent.\n",
      "\n",
      "\n",
      "=== Southernmost ===\n",
      "The southernmost continental point of land outside Antarctica is in South America at Cape Froward, Magallanes Region, Chile (53°56′00″S 071°20′00″W).\n",
      "The southernmost point of (liquid) water is a bay on the Filchner–Ronne Ice Shelf along the coast of Antarctica (83°S 59°W), about 100 km (62 mi) south of Berkner Island.\n",
      "The southernmost point of ocean is located on the Gould Coast (84°30′S 150°0′W).\n",
      "The southernmost point of open ocean is in the Bay of Whales, also part of the Ross Sea, at 78°30'S, at the edge of the Ross Ice Shelf.\n",
      "The southernmost island is considered to be Deverall Island, near the Shackleton Coast, surrounded by the Ross Ice Shelf although there is an island in Lake Vostok but it is currently under ice. \n",
      "\n",
      "\n",
      "=== Easternmost and westernmost ===\n",
      "The easternmost and westernmost points on Earth, based on the east–west standard for describing longitude, can be found anywhere along the 180th meridian, which passes through the Arctic, Pacific, and Southern Oceans, as well as parts of Siberia (including Wrangel Island), Antarctica, and three islands of Fiji (Vanua Levu's eastern peninsula, the middle of Taveuni, and the western part of Rabi Island).\n",
      "Using instead the path of the International Date Line (which is not a straight line), the westernmost point on land is Attu Island, Alaska, and the easternmost point on land is Caroline Island, Kiribati.\n",
      "\n",
      "\n",
      "=== Longest grid lines ===\n",
      "\n",
      "\n",
      "==== Along constant latitude ====\n",
      "The longest continuous east–west distance on land is 10,726 km (6,665 mi) along the latitude 48°24'53\"N, from the west coast of France (Pointe de Corsen, 48°24′53″N 4°47′44″W) through Central Europe, Ukraine, Russia, Kazakhstan, Mongolia and China, to a point on the east coast of Russia (48°24′53″N 140°6′3″E).\n",
      "The longest continuous east–west distance at sea is 22,471 km (13,963 mi) along the latitude 55°59'S, south of Cape Horn, South America.\n",
      "The longest continuous east–west distance at sea between two continents is 15,409 km (9,575 mi) along the latitude 18°39'12\"N, from the coast of Hainan, China (18°39′12″N 110°15′9″E) across the Pacific Ocean to the coast of Michoacán, Mexico (18°39′12″N 103°42′6″W).\n",
      "\n",
      "\n",
      "==== Along constant longitude ====\n",
      "The longest continuous north–south distance on land is 7,590 km (4,720 mi) along the meridian 99°1'30\"E, from the northern tip of Siberia in the Russian Federation (76°13′6″N 99°1′30″E), through Mongolia, China, and Myanmar, to a point on the south coast of Thailand (7°53′24″N 99°1′30″E).\n",
      "The longest in Africa is 7,417 km (4,609 mi) along the meridian 20°12'E, from the north coast of Libya (32°19′0″N 20°12′0″E), through Chad, Central African Republic, Democratic Republic of the Congo, Angola, Namibia, and Botswana, to the south coast of South Africa (34°41′30″S 20°12′0″E).\n",
      "The longest in South America is the length 7,098 km (4,410 mi) along the meridian 70°2'W, from the north coast of Venezuela (11°30′30″N 70°2′0″W), through Colombia, Ecuador, Peru, and Chile, to the southern tip of Argentina (52°33′30″S 70°2′0″W).\n",
      "The longest in North America is 5,813 km (3,612 mi) along the meridian 97°52'30\"W, from northern Canada (68°21′0″N 97°52′30″W), through the United States, to southern Mexico (16°1′0″N 97°52′30″W).\n",
      "The longest continuous north–south distance at s\n",
      "\n",
      "\n",
      "------------------------------\n",
      "\n",
      "\n",
      "{'id': 'doc-0', 'snippet': \"The following sortable table lists land surface elevation extremes by country or dependent territory.\\nTopographic elevation is the vertical distance above the reference geoid, a mathematical model of the Earth's sea level as an equipotential gravitational surface.\\n\\n\\n== Table ==\\n\\n\\n== National elevation ranges ==\\nOf all countries, Lesotho has the world's highest low point at 1,400 metres (4,593 ft). Other countries with high low points include Rwanda 950 metres (3,117 ft) and Andorra 840 metres (2,756 ft). Countries with very low high points include Maldives 5 metres (16 ft), Tuvalu, 5 metres (16 ft) and the Marshall Islands 10 metres (33 ft). These island countries also have the smallest range between their lowest (sea level) and highest points, and are very sensitive to changes in sea level.\\nThe highest and lowest points in China constitute the greatest elevation range within any single country at 9,002 metres (29,534 ft). The elevation ranges are also great in Nepal 8,789 metres (28,835 ft), Pakistan 8,611 metres (28,251 ft), and India 8,588 metres (28,176 ft).\\nMonaco's elevation range is among the greatest relative to surface area. Within its 2.02 km2 territory, there is a difference of 140 m between its highest and lowest points, giving a ratio of 69 m for every km2. In Australia's 7,686,850 square kilometres (2,967,910 sq mi) area, there is only a 2,244 metres (7,362 ft) difference between the highest and lowest points, which gives a ratio of 292 micrometres (0.0115 in) per km2.\\n\\n\\n== Gallery ==\\n\\n\\t\\t\\t\\n\\t\\t\\t\\n\\t\\t\\n\\t\\t\\n\\t\\t\\t\\n\\t\\t\\t\\n\\t\\t\\n\\t\\t\\n\\t\\t\\t\\n\\t\\t\\t\\n\\t\\t\\n\\t\\t\\n\\t\\t\\t\\n\\t\\t\\t\\n\\t\\t\\n\\t\\t\\n\\t\\t\\t\\n\\t\\t\\t\\n\\t\\t\\n\\t\\t\\n\\t\\t\\t\\n\\t\\t\\t\\n\\t\\t\\n\\t\\t\\n\\t\\t\\t\\n\\t\\t\\t\\n\\t\\t\\n\\t\\t\\n\\t\\t\\t\\n\\t\\t\\t\\n\\t\\t\\n\\t\\t\\n\\t\\t\\t\\n\\t\\t\\t\\n\\t\\t\\n\\t\\t\\n\\t\\t\\t\\n\\t\\t\\t\\n\\t\\t\\n\\t\\t\\n\\t\\t\\t\\n\\t\\t\\t\\n\\t\\t\\n\\t\\t\\n\\t\\t\\t\\n\\t\\t\\t\\n\\t\\t\\n\\t\\t\\n\\t\\t\\t\\n\\t\\t\\t\\n\\t\\t\\n\\t\\t\\n\\t\\t\\t\\n\\t\\t\\t\\n\\t\\t\\n\\t\\t\\n\\t\\t\\t\\n\\t\\t\\t\\n\\t\\t\\n\\t\\t\\n\\t\\t\\t\\n\\t\\t\\t\\n\\t\\t\\n\\t\\t\\n\\t\\t\\t\\n\\t\\t\\t\\n\\t\\t\\n\\t\\t\\n\\t\\t\\t\\n\\t\\t\\t\\n\\t\\t\\n\\t\\t\\n\\t\\t\\t\\n\\t\\t\\t\\n\\t\\t\\n\\t\\t\\n\\t\\t\\t\\n\\t\\t\\t\\n\\t\\t\\n\\t\\t\\n\\t\\t\\t\\n\\t\\t\\t\\n\\t\\t\\n\\t\\t\\n\\t\\t\\t\\n\\t\\t\\t\\n\\t\\t\\n\\t\\t\\n\\t\\t\\t\\n\\t\\t\\t\\n\\t\\t\\n\\t\\t\\n\\t\\t\\t\\n\\t\\t\\t\\n\\t\\t\\n\\t\\t\\n\\t\\t\\t\\n\\t\\t\\t\\n\\t\\t\\n\\t\\t\\n\\t\\t\\t\\n\\t\\t\\t\\n\\t\\t\\n\\n\\n== See also ==\\nList of elevation extremes by region\\nList of highest points of African countries\\nList of highest points of Asian countries\\nList of highest points of European countries\\nList of highest points of Oceanian countries\\nList of tallest mountains in the Solar System\\nGeodesy\\nGeoid\\nNadir\\nSummit\\nTopographic elevation\\nTopographic isolation\\nTopographic prominence\\nList of countries by average elevation\\nList of sovereign states\\nList of U.S. states by elevation\\nCategory:Highest points\\nCategory:Lowest points\\n\\n\\n== Notes ==\\n\\n\\n== References ==\\n\\n\\n== External links ==\\n\\nUnited Kingdom\\nForeign and Commonwealth Office\\nCountry profiles\\nUnited States of America\\nThe Library of Congress\\nCountry Studies\\nU.S. Central Intelligence Agency\\nThe World Factbook\\nU.S. Department of State\\nBackground Notes\"}\n",
      "\n",
      "\n",
      "The following sortable table lists land surface elevation extremes by country or dependent territory.\n",
      "Topographic elevation is the vertical distance above the reference geoid, a mathematical model of the Earth's sea level as an equipotential gravitational surface.\n",
      "\n",
      "\n",
      "== Table ==\n",
      "\n",
      "\n",
      "== National elevation ranges ==\n",
      "Of all countries, Lesotho has the world's highest low point at 1,400 metres (4,593 ft). Other countries with high low points include Rwanda 950 metres (3,117 ft) and Andorra 840 metres (2,756 ft). Countries with very low high points include Maldives 5 metres (16 ft), Tuvalu, 5 metres (16 ft) and the Marshall Islands 10 metres (33 ft). These island countries also have the smallest range between their lowest (sea level) and highest points, and are very sensitive to changes in sea level.\n",
      "The highest and lowest points in China constitute the greatest elevation range within any single country at 9,002 metres (29,534 ft). The elevation ranges are also great in Nepal 8,789 metres (28,835 ft), Pakistan 8,611 metres (28,251 ft), and India 8,588 metres (28,176 ft).\n",
      "Monaco's elevation range is among the greatest relative to surface area. Within its 2.02 km2 territory, there is a difference of 140 m between its highest and lowest points, giving a ratio of 69 m for every km2. In Australia's 7,686,850 square kilometres (2,967,910 sq mi) area, there is only a 2,244 metres (7,362 ft) difference between the highest and lowest points, which gives a ratio of 292 micrometres (0.0115 in) per km2.\n",
      "\n",
      "\n",
      "== Gallery ==\n",
      "\n",
      "\t\t\t\n",
      "\t\t\t\n",
      "\t\t\n",
      "\t\t\n",
      "\t\t\t\n",
      "\t\t\t\n",
      "\t\t\n",
      "\t\t\n",
      "\t\t\t\n",
      "\t\t\t\n",
      "\t\t\n",
      "\t\t\n",
      "\t\t\t\n",
      "\t\t\t\n",
      "\t\t\n",
      "\t\t\n",
      "\t\t\t\n",
      "\t\t\t\n",
      "\t\t\n",
      "\t\t\n",
      "\t\t\t\n",
      "\t\t\t\n",
      "\t\t\n",
      "\t\t\n",
      "\t\t\t\n",
      "\t\t\t\n",
      "\t\t\n",
      "\t\t\n",
      "\t\t\t\n",
      "\t\t\t\n",
      "\t\t\n",
      "\t\t\n",
      "\t\t\t\n",
      "\t\t\t\n",
      "\t\t\n",
      "\t\t\n",
      "\t\t\t\n",
      "\t\t\t\n",
      "\t\t\n",
      "\t\t\n",
      "\t\t\t\n",
      "\t\t\t\n",
      "\t\t\n",
      "\t\t\n",
      "\t\t\t\n",
      "\t\t\t\n",
      "\t\t\n",
      "\t\t\n",
      "\t\t\t\n",
      "\t\t\t\n",
      "\t\t\n",
      "\t\t\n",
      "\t\t\t\n",
      "\t\t\t\n",
      "\t\t\n",
      "\t\t\n",
      "\t\t\t\n",
      "\t\t\t\n",
      "\t\t\n",
      "\t\t\n",
      "\t\t\t\n",
      "\t\t\t\n",
      "\t\t\n",
      "\t\t\n",
      "\t\t\t\n",
      "\t\t\t\n",
      "\t\t\n",
      "\t\t\n",
      "\t\t\t\n",
      "\t\t\t\n",
      "\t\t\n",
      "\t\t\n",
      "\t\t\t\n",
      "\t\t\t\n",
      "\t\t\n",
      "\t\t\n",
      "\t\t\t\n",
      "\t\t\t\n",
      "\t\t\n",
      "\t\t\n",
      "\t\t\t\n",
      "\t\t\t\n",
      "\t\t\n",
      "\t\t\n",
      "\t\t\t\n",
      "\t\t\t\n",
      "\t\t\n",
      "\t\t\n",
      "\t\t\t\n",
      "\t\t\t\n",
      "\t\t\n",
      "\t\t\n",
      "\t\t\t\n",
      "\t\t\t\n",
      "\t\t\n",
      "\t\t\n",
      "\t\t\t\n",
      "\t\t\t\n",
      "\t\t\n",
      "\t\t\n",
      "\t\t\t\n",
      "\t\t\t\n",
      "\t\t\n",
      "\n",
      "\n",
      "== See also ==\n",
      "List of elevation extremes by region\n",
      "List of highest points of African countries\n",
      "List of highest points of Asian countries\n",
      "List of highest points of European countries\n",
      "List of highest points of Oceanian countries\n",
      "List of tallest mountains in the Solar System\n",
      "Geodesy\n",
      "Geoid\n",
      "Nadir\n",
      "Summit\n",
      "Topographic elevation\n",
      "Topographic isolation\n",
      "Topographic prominence\n",
      "List of countries by average elevation\n",
      "List of sovereign states\n",
      "List of U.S. states by elevation\n",
      "Category:Highest points\n",
      "Category:Lowest points\n",
      "\n",
      "\n",
      "== Notes ==\n",
      "\n",
      "\n",
      "== References ==\n",
      "\n",
      "\n",
      "== External links ==\n",
      "\n",
      "United Kingdom\n",
      "Foreign and Commonwealth Office\n",
      "Country profiles\n",
      "United States of America\n",
      "The Library of Congress\n",
      "Country Studies\n",
      "U.S. Central Intelligence Agency\n",
      "The World Factbook\n",
      "U.S. Department of State\n",
      "Background Notes\n",
      "\n",
      "\n",
      "------------------------------\n",
      "\n",
      "\n"
     ]
    }
   ],
   "source": [
    "from langchain.retrievers import CohereRagRetriever\n",
    "from langchain.retrievers import WikipediaRetriever\n",
    "from langchain_community.chat_models import ChatCohere\n",
    "\n",
    "# User query we will use for the generation\n",
    "user_query = \"What is the highest point and lowest point on earth?\"\n",
    "messages = [HumanMessage(user_query)]\n",
    "# Load the cohere chat model\n",
    "cohere_chat_model = ChatCohere()\n",
    "# Create the cohere rag retriever using the chat model\n",
    "rag = CohereRagRetriever(llm=cohere_chat_model, connectors=[])\n",
    "# Get search queries \n",
    "res = chat.invoke(messages, search_queries_only=True)\n",
    "# Create the wikipedia retriever\n",
    "wiki_retriever = WikipediaRetriever()\n",
    "# Get the relevant documents from wikipedia\n",
    "wiki_docs = []\n",
    "for query in res.additional_kwargs[\"search_queries\"]:\n",
    "    wiki_docs.extend(wiki_retriever.get_relevant_documents(query[\"text\"]))\n",
    "# Get the cohere generation from the cohere rag retriever\n",
    "docs = rag.get_relevant_documents(user_query ,source_documents=wiki_docs)\n",
    "# Print the final generation \n",
    "answer = docs[-1].page_content\n",
    "print(answer)\n",
    "# Print the final citations \n",
    "citations = docs[-1].metadata['citations']\n",
    "print(citations)\n",
    "# Print the documents\n",
    "for doc in docs[:-1]:\n",
    "    print(doc.metadata)\n",
    "    print(\"\\n\\n\" + doc.page_content)\n",
    "    print(\"\\n\\n\" + \"-\" * 30 + \"\\n\\n\")"
   ]
  }
 ],
 "metadata": {
  "kernelspec": {
   "display_name": "Python 3 (ipykernel)",
   "language": "python",
   "name": "python3"
  },
  "language_info": {
   "codemirror_mode": {
    "name": "ipython",
    "version": 3
   },
   "file_extension": ".py",
   "mimetype": "text/x-python",
   "name": "python",
   "nbconvert_exporter": "python",
   "pygments_lexer": "ipython3",
   "version": "3.11.7"
  }
 },
 "nbformat": 4,
 "nbformat_minor": 5
}
